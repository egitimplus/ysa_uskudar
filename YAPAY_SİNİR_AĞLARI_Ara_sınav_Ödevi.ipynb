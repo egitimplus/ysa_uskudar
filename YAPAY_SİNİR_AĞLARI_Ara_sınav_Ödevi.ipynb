{
  "nbformat": 4,
  "nbformat_minor": 0,
  "metadata": {
    "colab": {
      "provenance": [],
      "toc_visible": true,
      "include_colab_link": true
    },
    "kernelspec": {
      "name": "python3",
      "display_name": "Python 3"
    },
    "language_info": {
      "name": "python"
    }
  },
  "cells": [
    {
      "cell_type": "markdown",
      "metadata": {
        "id": "view-in-github",
        "colab_type": "text"
      },
      "source": [
        "<a href=\"https://colab.research.google.com/github/egitimplus/ysa_uskudar/blob/main/YAPAY_S%C4%B0N%C4%B0R_A%C4%9ELARI_Ara_s%C4%B1nav_%C3%96devi.ipynb\" target=\"_parent\"><img src=\"https://colab.research.google.com/assets/colab-badge.svg\" alt=\"Open In Colab\"/></a>"
      ]
    },
    {
      "cell_type": "markdown",
      "source": [
        "YAPAY SİNİR AĞLARI - ARA SINAV (ÖDEV)"
      ],
      "metadata": {
        "id": "1lnhNYNQU3o2"
      }
    },
    {
      "cell_type": "markdown",
      "source": [
        "Yunus Emre Çevik\n",
        "\n",
        "Öğrenci No: 234329053"
      ],
      "metadata": {
        "id": "MnKCpn_5sOUV"
      }
    },
    {
      "cell_type": "markdown",
      "source": [
        "https://github.com/egitimplus/ysa_uskudar/blob/main/YAPAY_S%C4%B0N%C4%B0R_A%C4%9EI_Ara_s%C4%B1nav_%C3%96devi.ipynb"
      ],
      "metadata": {
        "id": "m_N8YuIUsC4J"
      }
    },
    {
      "cell_type": "markdown",
      "source": [
        "# 1. Gerekli Kütüphanelerin Yüklenmesi"
      ],
      "metadata": {
        "id": "MLwI-sAyVB6W"
      }
    },
    {
      "cell_type": "code",
      "source": [
        "import os\n",
        "import warnings\n",
        "import numpy as np\n",
        "import pandas as pd\n",
        "import matplotlib.pyplot as plt\n",
        "import seaborn as sns\n",
        "\n",
        "# SciPy\n",
        "from scipy.stats import uniform, randint\n",
        "\n",
        "# Torch\n",
        "import torch\n",
        "from torchvision import transforms\n",
        "from torchvision.datasets import GTSRB\n",
        "\n",
        "# Scikit-Learn\n",
        "from sklearn.model_selection import train_test_split\n",
        "from sklearn.preprocessing import MinMaxScaler\n",
        "from sklearn.neural_network import MLPClassifier\n",
        "from sklearn.metrics import confusion_matrix, classification_report, accuracy_score\n",
        "from sklearn.model_selection import RandomizedSearchCV\n",
        "from sklearn.base import BaseEstimator, ClassifierMixin\n",
        "\n",
        "# Tenserflow\n",
        "import tensorflow as tf\n",
        "import tensorflow.keras.backend as K\n",
        "from tensorflow.keras.layers import Layer, Dense, Input\n",
        "from tensorflow.keras.models import Model, Sequential\n",
        "from tensorflow.keras.optimizers import Adam\n",
        "\n",
        "\"\"\"\n",
        "0 = all messages are logged (default behavior)\n",
        "1 = INFO messages are not printed\n",
        "2 = INFO and WARNING messages are not printed\n",
        "3 = INFO, WARNING, and ERROR messages are not printed\n",
        "\"\"\"\n",
        "\n",
        "os.environ['TF_CPP_MIN_LOG_LEVEL'] = '2'\n",
        "\n",
        "warnings.filterwarnings('ignore')\n"
      ],
      "metadata": {
        "id": "N2i8g2Q7WcCj"
      },
      "execution_count": null,
      "outputs": []
    },
    {
      "cell_type": "markdown",
      "source": [
        "# 2. Veri Seti Yükleme ve Ön İşleme"
      ],
      "metadata": {
        "id": "uMwuYr1HU-PH"
      }
    },
    {
      "cell_type": "markdown",
      "source": [
        "## a.\tVeri Yükleme:"
      ],
      "metadata": {
        "id": "CUdQXzWlVT24"
      }
    },
    {
      "cell_type": "markdown",
      "source": [
        "\n",
        "GTSRB veri seti pytorch kütüphanesinden indirildi ve kaydedildi. Her görüntünün boyutu 32x32 piksel olarak ayarlandı ve tensöre dönüştürüldü. Veri setinde 26640 tane gözlem olduğu tespit edildi."
      ],
      "metadata": {
        "id": "VJaonUx5fhkz"
      }
    },
    {
      "cell_type": "code",
      "source": [
        "# Torch kütüphanesinden GTSRB yükleyelim\n",
        "# German Traffic Sign Recognition Benchmark (GTSRB) Dataset.\n",
        "# https://pytorch.org/vision/main/generated/torchvision.datasets.GTSRB.html\n",
        "\n",
        "\n",
        "# GTSRB veri setini indir ve yükle\n",
        "transform = transforms.Compose([\n",
        "    transforms.Resize((32, 32)),\n",
        "    transforms.ToTensor()\n",
        "])\n",
        "\n",
        "dataset = GTSRB(root='data/', download=True, transform=transform)\n",
        "\n",
        "\n",
        "# Veri seti boyutunu kontrol edelim\n",
        "len(dataset)"
      ],
      "metadata": {
        "colab": {
          "base_uri": "https://localhost:8080/"
        },
        "id": "frLpyFmjY0oL",
        "outputId": "96ed2c0a-aaa3-40b6-df3f-06a71c23698b"
      },
      "execution_count": null,
      "outputs": [
        {
          "output_type": "stream",
          "name": "stdout",
          "text": [
            "Downloading https://sid.erda.dk/public/archives/daaeac0d7ce1152aea9b61d9f1e19370/GTSRB-Training_fixed.zip to data/gtsrb/GTSRB-Training_fixed.zip\n"
          ]
        },
        {
          "output_type": "stream",
          "name": "stderr",
          "text": [
            "100%|██████████| 187M/187M [00:01<00:00, 110MB/s]\n"
          ]
        },
        {
          "output_type": "stream",
          "name": "stdout",
          "text": [
            "Extracting data/gtsrb/GTSRB-Training_fixed.zip to data/gtsrb\n"
          ]
        },
        {
          "output_type": "execute_result",
          "data": {
            "text/plain": [
              "26640"
            ]
          },
          "metadata": {},
          "execution_count": 2
        }
      ]
    },
    {
      "cell_type": "markdown",
      "source": [
        "Veri setinde yer alan etiket ve resimler ayrıştırıldı."
      ],
      "metadata": {
        "id": "1_2HwygCt-W1"
      }
    },
    {
      "cell_type": "code",
      "source": [
        "# Verileri ve etiketleri ayır\n",
        "images = []\n",
        "labels = []\n",
        "\n",
        "for img, label in dataset:\n",
        "    images.append(img.numpy())  # Görselleri numpy dizisine dönüştür\n",
        "    labels.append(label)\n",
        "\n",
        "# Numpy dizisine dönüştür\n",
        "images = np.array(images)\n",
        "labels = np.array(labels)\n",
        "\n",
        "len(labels), len(images)"
      ],
      "metadata": {
        "id": "zcFppf0_ldnu",
        "colab": {
          "base_uri": "https://localhost:8080/"
        },
        "outputId": "4ef12ea0-5aa5-4da5-8aee-ee22e2214c6b"
      },
      "execution_count": null,
      "outputs": [
        {
          "output_type": "execute_result",
          "data": {
            "text/plain": [
              "(26640, 26640)"
            ]
          },
          "metadata": {},
          "execution_count": 3
        }
      ]
    },
    {
      "cell_type": "markdown",
      "source": [
        "Etiketler içerisinde 0 ve 42 arasında değişen sayılar bulunmaktadır. Bunların karşılıkları aşağıda verilmiştir.\n",
        "\n",
        "\n",
        "\n",
        "```\n",
        "Label\tTraffic Sign\n",
        "0\tSpeed limit (20km/h)\n",
        "1\tSpeed limit (30km/h)\n",
        "2\tSpeed limit (50km/h)\n",
        "3\tSpeed limit (60km/h)\n",
        "4\tSpeed limit (70km/h)\n",
        "5\tSpeed limit (80km/h)\n",
        "6\tEnd of speed limit (80km/h)\n",
        "7\tSpeed limit (100km/h)\n",
        "8\tSpeed limit (120km/h)\n",
        "9\tNo passing\n",
        "10\tNo passing for vehicles over 3.5 metric tons\n",
        "11\tRight-of-way at the next intersection\n",
        "12\tPriority road\n",
        "13\tYield\n",
        "14\tStop\n",
        "15\tNo vehicles\n",
        "16\tVehicles over 3.5 metric tons prohibited\n",
        "17\tNo entry\n",
        "18\tGeneral caution\n",
        "19\tDangerous curve to the left\n",
        "20\tDangerous curve to the right\n",
        "21\tDouble curve\n",
        "22\tBumpy road\n",
        "23\tSlippery road\n",
        "24\tRoad narrows on the right\n",
        "25\tRoad work\n",
        "26\tTraffic signals\n",
        "27\tPedestrians\n",
        "28\tChildren crossing\n",
        "29\tBicycles crossing\n",
        "30\tBeware of ice/snow\n",
        "31\tWild animals crossing\n",
        "32\tEnd of all speed and passing limits\n",
        "33\tTurn right ahead\n",
        "34\tTurn left ahead\n",
        "35\tAhead only\n",
        "36\tGo straight or right\n",
        "37\tGo straight or left\n",
        "38\tKeep right\n",
        "39\tKeep left\n",
        "40\tRoundabout mandatory\n",
        "41\tEnd of no passing\n",
        "42\tEnd of no passing by vehicles over 3.5 metric tons\n",
        "```\n",
        "\n",
        "\n",
        "\n",
        "\n"
      ],
      "metadata": {
        "id": "KYC9prCHi16R"
      }
    },
    {
      "cell_type": "code",
      "source": [
        "np.unique(labels)"
      ],
      "metadata": {
        "colab": {
          "base_uri": "https://localhost:8080/"
        },
        "id": "4qjRDr8zpnXj",
        "outputId": "962ef35c-e873-49d0-ac3c-d9a319b8a93e"
      },
      "execution_count": null,
      "outputs": [
        {
          "output_type": "execute_result",
          "data": {
            "text/plain": [
              "array([ 0,  1,  2,  3,  4,  5,  6,  7,  8,  9, 10, 11, 12, 13, 14, 15, 16,\n",
              "       17, 18, 19, 20, 21, 22, 23, 24, 25, 26, 27, 28, 29, 30, 31, 32, 33,\n",
              "       34, 35, 36, 37, 38, 39, 40, 41, 42])"
            ]
          },
          "metadata": {},
          "execution_count": 4
        }
      ]
    },
    {
      "cell_type": "code",
      "source": [
        "len(np.unique(labels))"
      ],
      "metadata": {
        "colab": {
          "base_uri": "https://localhost:8080/"
        },
        "id": "UVZgd9RDj2M5",
        "outputId": "7105dd9e-4c88-41c9-d464-8022f0384221"
      },
      "execution_count": null,
      "outputs": [
        {
          "output_type": "execute_result",
          "data": {
            "text/plain": [
              "43"
            ]
          },
          "metadata": {},
          "execution_count": 5
        }
      ]
    },
    {
      "cell_type": "markdown",
      "source": [
        "## b.\tEksik Değerlerin İşlenmesi:"
      ],
      "metadata": {
        "id": "H9-5a20RVXrB"
      }
    },
    {
      "cell_type": "markdown",
      "source": [
        "#### Etikette eksiklik var mı?"
      ],
      "metadata": {
        "id": "KbsCx0l5nLYi"
      }
    },
    {
      "cell_type": "markdown",
      "source": [
        "Etiketler içerisinde boş (eksik) değer bulunamamıştır"
      ],
      "metadata": {
        "id": "EWwWecQSuEoK"
      }
    },
    {
      "cell_type": "code",
      "source": [
        "# Etiketlerde eksik değerleri kontrol etme\n",
        "missing_labels = np.isnan(labels).sum()  # y_train içinde NaN değerlerin sayısı\n",
        "print(f\"Eksik etiket sayısı: {missing_labels}\")"
      ],
      "metadata": {
        "colab": {
          "base_uri": "https://localhost:8080/"
        },
        "id": "7Ie90eTimWWb",
        "outputId": "093d73af-c26b-443b-8b9d-5d2fa8a51070"
      },
      "execution_count": null,
      "outputs": [
        {
          "output_type": "stream",
          "name": "stdout",
          "text": [
            "Eksik etiket sayısı: 0\n"
          ]
        }
      ]
    },
    {
      "cell_type": "markdown",
      "source": [
        "#### Resimlerde eksiklik var mı?"
      ],
      "metadata": {
        "id": "zDKN38NXnOx2"
      }
    },
    {
      "cell_type": "markdown",
      "source": [
        "Resimler içerisinde boş (eksik) değer bulunamamıştır\n"
      ],
      "metadata": {
        "id": "HMxG8_sco_E6"
      }
    },
    {
      "cell_type": "code",
      "source": [
        "\n",
        "# Eksik değerleri kontrol etme fonksiyonu\n",
        "def check_missing_values(images):\n",
        "    \"\"\"\n",
        "    np.isnan(img).any(): Görselde (img) herhangi bir NaN (Not a Number) değeri olup olmadığını kontrol eder. Eğer varsa, True döner.\n",
        "    np.isinf(img).any(): Görselde herhangi bir Inf (sonsuz) değeri olup olmadığını kontrol eder.\n",
        "    np.isfinite(img).all(): Eğer görselin tüm değerleri geçerli ise True döner. Aksi takdirde, görselde geçersiz bir değer (NaN veya Inf) varsa False döner.\n",
        "    \"\"\"\n",
        "\n",
        "    for idx, img in enumerate(images):\n",
        "        if np.isnan(img).any():  # Görselde herhangi bir NaN değeri var mı?\n",
        "            print(f\"Görsel {idx + 1} içinde NaN değeri bulundu.\")\n",
        "        if np.isinf(img).any():  # Görselde herhangi bir Inf değeri var mı?\n",
        "            print(f\"Görsel {idx + 1} içinde Inf (sonsuz) değeri bulundu.\")\n",
        "        if not np.isfinite(img).all():  # Hem NaN hem de Inf varsa\n",
        "            print(f\"Görsel {idx + 1} geçersiz (NaN veya Inf içeriyor).\")\n",
        "    else:\n",
        "        print('Kontrol Tamalandı.')\n",
        "\n",
        "# Eksik değerleri kontrol eder varsa eksik resim ID yazdırır.\n",
        "check_missing_values(images)"
      ],
      "metadata": {
        "colab": {
          "base_uri": "https://localhost:8080/"
        },
        "id": "g9ortUGDnKXo",
        "outputId": "fe06d9ab-3c02-465e-d372-76e07088174a"
      },
      "execution_count": null,
      "outputs": [
        {
          "output_type": "stream",
          "name": "stdout",
          "text": [
            "Kontrol Tamalandı.\n"
          ]
        }
      ]
    },
    {
      "cell_type": "markdown",
      "source": [
        "## c.\tVeri Setini Eğitim ve Test Olarak Ayırma:"
      ],
      "metadata": {
        "id": "BdOoOsYuVa1H"
      }
    },
    {
      "cell_type": "markdown",
      "source": [
        "Veriler sklearn.model_selection.train_test_split fonksiyonunu kullanılarak %80 eğitim, %20 test olarak ikiye ayırılmıştır. 21.312 veri eğitim veri setinde, 5.328 veri ise test veri setinde bulunmaktadır.\n"
      ],
      "metadata": {
        "id": "qKfx1-Edf5ZI"
      }
    },
    {
      "cell_type": "code",
      "source": [
        "# Veriyi %80 train, %20 test olarak ayır\n",
        "X_train, X_test, y_train, y_test = train_test_split(images, labels, test_size=0.2, random_state=42, stratify=labels)\n",
        "\n",
        "print(f'Train set: {X_train.shape}, {y_train.shape}')\n",
        "print(f'Test set: {X_test.shape}, {y_test.shape}')"
      ],
      "metadata": {
        "colab": {
          "base_uri": "https://localhost:8080/"
        },
        "id": "SBiCGdMZojjO",
        "outputId": "ad0d0aa6-c147-4a26-8a34-6dd7f99d9947"
      },
      "execution_count": null,
      "outputs": [
        {
          "output_type": "stream",
          "name": "stdout",
          "text": [
            "Train set: (21312, 3, 32, 32), (21312,)\n",
            "Test set: (5328, 3, 32, 32), (5328,)\n"
          ]
        }
      ]
    },
    {
      "cell_type": "markdown",
      "source": [
        "MLPClassifier iki boyutlu bir girdi beklediğinden, görselleri (num_samples, num_features) şeklinde yeniden düzenleriz."
      ],
      "metadata": {
        "id": "oe7EXsFnr-_r"
      }
    },
    {
      "cell_type": "code",
      "source": [
        "num_samples, channels, height, width = X_train.shape\n",
        "\n",
        "X_train_flat = X_train.reshape(num_samples, -1)\n",
        "X_test_flat = X_test.reshape(X_test.shape[0], -1)\n",
        "\n",
        "X_train_flat"
      ],
      "metadata": {
        "colab": {
          "base_uri": "https://localhost:8080/"
        },
        "id": "21bLj3sSr-Lz",
        "outputId": "09b1e3f7-d1a2-46c1-fbcc-51580152c5fd"
      },
      "execution_count": null,
      "outputs": [
        {
          "output_type": "execute_result",
          "data": {
            "text/plain": [
              "array([[0.74509805, 0.7490196 , 0.7607843 , ..., 0.5568628 , 0.6039216 ,\n",
              "        0.59607846],\n",
              "       [0.06666667, 0.0627451 , 0.05490196, ..., 0.05098039, 0.05490196,\n",
              "        0.05490196],\n",
              "       [0.12941177, 0.22352941, 0.2509804 , ..., 0.15686275, 0.16470589,\n",
              "        0.14901961],\n",
              "       ...,\n",
              "       [0.12941177, 0.12941177, 0.12941177, ..., 0.10196079, 0.10196079,\n",
              "        0.10980392],\n",
              "       [0.47058824, 0.47058824, 0.4627451 , ..., 0.5647059 , 0.5686275 ,\n",
              "        0.5647059 ],\n",
              "       [0.08235294, 0.07843138, 0.07058824, ..., 0.07450981, 0.07450981,\n",
              "        0.07843138]], dtype=float32)"
            ]
          },
          "metadata": {},
          "execution_count": 8
        }
      ]
    },
    {
      "cell_type": "markdown",
      "source": [
        "## d.\tÖzellik Ölçekleme (Feature Scaling):"
      ],
      "metadata": {
        "id": "rtG-ud06Vc3a"
      }
    },
    {
      "cell_type": "markdown",
      "source": [
        "GTSRB veri setini indir ve yükleme adımında transform (toTensor) yaptığımız için veri setindeki piksel değerleri 0-255 aralığından 0-1 aralığına dönüştürülmüştür.Verimiz halihazırda normalize edilmiş olduğundan ek bir feature scaling yapmamıza gerek yoktur."
      ],
      "metadata": {
        "id": "RzIlm8fLx1Ii"
      }
    },
    {
      "cell_type": "code",
      "source": [
        "X_train_flat[0]"
      ],
      "metadata": {
        "colab": {
          "base_uri": "https://localhost:8080/"
        },
        "id": "OPQQVYVYjYT7",
        "outputId": "0b6e9f84-e32e-4d16-cb8d-5c896f449725"
      },
      "execution_count": null,
      "outputs": [
        {
          "output_type": "execute_result",
          "data": {
            "text/plain": [
              "array([0.74509805, 0.7490196 , 0.7607843 , ..., 0.5568628 , 0.6039216 ,\n",
              "       0.59607846], dtype=float32)"
            ]
          },
          "metadata": {},
          "execution_count": 10
        }
      ]
    },
    {
      "cell_type": "markdown",
      "source": [
        "# 3. Model Eğitimi ve Hiperparametre Denemeleri"
      ],
      "metadata": {
        "id": "snEOtm_UU_Xy"
      }
    },
    {
      "cell_type": "markdown",
      "source": [
        "## a.\tMLP Modeli"
      ],
      "metadata": {
        "id": "vvHgIu0KVieU"
      }
    },
    {
      "cell_type": "markdown",
      "source": [
        "### Base Model"
      ],
      "metadata": {
        "id": "dGNWnBNvuqiD"
      }
    },
    {
      "cell_type": "markdown",
      "source": [
        "Modelimizi oluşturalım. Modelimiz için hiperparametre ayarlaması yapmadığımızda otomatik olarak aşağıdaki parametreleri almaktadır.\n",
        "\n",
        "hidden_layer_sizes=(100,),\n",
        "activation='relu',\n",
        "learning_rate_init=0.001\n",
        "\n",
        "accuracy_score ile modelin test setindeki doğruluğunu ölçelim. RBF modelinden sonra farklı performans ölçümleri yapacağız.\n",
        "\n",
        "scikit-learn cuda desteklemediği için cuda kullanılamamıştır."
      ],
      "metadata": {
        "id": "VhE1mLb2nhRY"
      }
    },
    {
      "cell_type": "code",
      "source": [
        "# MLP modelini tanımlayın\n",
        "mlp = MLPClassifier(random_state=42)\n",
        "\n",
        "# Modeli eğitme\n",
        "mlp.fit(X_train_flat, y_train)\n",
        "\n",
        "print('Model Eğitildi')\n",
        "\n",
        "# Modelin train verisi üzerindeki doğruluğunu değerlendirme\n",
        "mlp_y_train_pred = mlp.predict(X_train_flat)\n",
        "accuracy_train = accuracy_score(y_train, mlp_y_train_pred)\n",
        "print(\"Train seti doğruluğu:\", accuracy_train)\n",
        "\n",
        "# Modelin test verisi üzerindeki doğruluğunu değerlendirme\n",
        "mlp_y_test_pred = mlp.predict(X_test_flat)\n",
        "accuracy_test = accuracy_score(y_test, mlp_y_test_pred)\n",
        "\n",
        "print(\"Test seti doğruluğu:\", accuracy_test)\n"
      ],
      "metadata": {
        "id": "exMXl5STnXx8",
        "colab": {
          "base_uri": "https://localhost:8080/"
        },
        "outputId": "d38fbe80-b4c1-4e13-8176-39cafd6249d0"
      },
      "execution_count": null,
      "outputs": [
        {
          "output_type": "stream",
          "name": "stdout",
          "text": [
            "Model Eğitildi\n",
            "Train seti doğruluğu: 0.9943693693693694\n",
            "Test seti doğruluğu: 0.9641516516516516\n"
          ]
        }
      ]
    },
    {
      "cell_type": "markdown",
      "source": [
        "Train veri setine bakıldığında %99'a yakın bir doğruluk vardır ve test seti tahminlerinin doğruluğu ile arada yaklaşık %3 lük bir fark var. Aşırı öğrenmede train veri setini iyi öğrenirken test setini o kadar iyi tahmin edemiz. Aradaki bu fark arttıkça aşırı öğrenme yapmış diyebiliriz. Ancak örneğimizde sınır kabul edilebilecek %3 seviyelerinde çıkmış. Tahmin ettiğiniz sınıf aralığının da çok fazla (43) olması aşırı öğrenme ihtimalini düşürmektedir."
      ],
      "metadata": {
        "id": "wmfqyBW5uE0u"
      }
    },
    {
      "cell_type": "markdown",
      "source": [
        "### Activation Parametresi Denemeleri"
      ],
      "metadata": {
        "id": "Lq6ySCPgu2SX"
      }
    },
    {
      "cell_type": "markdown",
      "source": [
        "Base modelde activation parametresi olarak \"relu\" kullanılmış olup, aşağıda \"tanh\",\"logistic\",\"identity\" parametreleri denenmiştir. Bu parametrede yapılan değişiklikler sonuçları çok fazla etkilmemektedir."
      ],
      "metadata": {
        "id": "o26pqLv9vYT9"
      }
    },
    {
      "cell_type": "markdown",
      "source": [
        "#### activation='tanh'"
      ],
      "metadata": {
        "id": "sz1PORbBvbRL"
      }
    },
    {
      "cell_type": "code",
      "source": [
        "# MLP modelini tanımlayın\n",
        "mlp = MLPClassifier(activation='tanh', random_state=42)\n",
        "\n",
        "# Modeli eğitme\n",
        "mlp.fit(X_train_flat, y_train)\n",
        "\n",
        "print('Model Eğitildi')\n",
        "\n",
        "# Modelin train verisi üzerindeki doğruluğunu değerlendirme\n",
        "mlp_y_train_pred = mlp.predict(X_train_flat)\n",
        "accuracy_train = accuracy_score(y_train, mlp_y_train_pred)\n",
        "print(\"Train seti doğruluğu:\", accuracy_train)\n",
        "\n",
        "# Modelin test verisi üzerindeki doğruluğunu değerlendirme\n",
        "mlp_y_test_pred = mlp.predict(X_test_flat)\n",
        "accuracy_test = accuracy_score(y_test, mlp_y_test_pred)\n",
        "\n",
        "print(\"Test seti doğruluğu:\", accuracy_test)"
      ],
      "metadata": {
        "id": "V5DGcn_QwxFT",
        "colab": {
          "base_uri": "https://localhost:8080/"
        },
        "outputId": "9a97e784-814d-48d1-cc8d-e6c122344012"
      },
      "execution_count": null,
      "outputs": [
        {
          "output_type": "stream",
          "name": "stdout",
          "text": [
            "Model Eğitildi\n",
            "Train seti doğruluğu: 0.9959647147147147\n",
            "Test seti doğruluğu: 0.9690315315315315\n"
          ]
        }
      ]
    },
    {
      "cell_type": "markdown",
      "source": [
        "#### activation='logistic'"
      ],
      "metadata": {
        "id": "tQ-aYKCEvbk-"
      }
    },
    {
      "cell_type": "code",
      "source": [
        "# MLP modelini tanımlayın\n",
        "mlp = MLPClassifier(activation='logistic', random_state=42)\n",
        "\n",
        "# Modeli eğitme\n",
        "mlp.fit(X_train_flat, y_train)\n",
        "\n",
        "print('Model Eğitildi')\n",
        "\n",
        "# Modelin train verisi üzerindeki doğruluğunu değerlendirme\n",
        "mlp_y_train_pred = mlp.predict(X_train_flat)\n",
        "accuracy_train = accuracy_score(y_train, mlp_y_train_pred)\n",
        "print(\"Train seti doğruluğu:\", accuracy_train)\n",
        "\n",
        "# Modelin test verisi üzerindeki doğruluğunu değerlendirme\n",
        "mlp_y_test_pred = mlp.predict(X_test_flat)\n",
        "accuracy_test = accuracy_score(y_test, mlp_y_test_pred)\n",
        "\n",
        "print(\"Test seti doğruluğu:\", accuracy_test)"
      ],
      "metadata": {
        "id": "ob_YLNosw9V5",
        "colab": {
          "base_uri": "https://localhost:8080/"
        },
        "outputId": "ea5c72a7-9054-46ce-8b8b-242507e1b36f"
      },
      "execution_count": null,
      "outputs": [
        {
          "output_type": "stream",
          "name": "stdout",
          "text": [
            "Model Eğitildi\n",
            "Train seti doğruluğu: 0.9997184684684685\n",
            "Test seti doğruluğu: 0.9787912912912913\n"
          ]
        }
      ]
    },
    {
      "cell_type": "markdown",
      "source": [
        "#### activation='identity'"
      ],
      "metadata": {
        "id": "hNeirPcEviOW"
      }
    },
    {
      "cell_type": "code",
      "source": [
        "# MLP modelini tanımlayın\n",
        "mlp = MLPClassifier(activation='identity', random_state=42)\n",
        "\n",
        "# Modeli eğitme\n",
        "mlp.fit(X_train_flat, y_train)\n",
        "\n",
        "print('Model Eğitildi')\n",
        "\n",
        "# Modelin train verisi üzerindeki doğruluğunu değerlendirme\n",
        "mlp_y_train_pred = mlp.predict(X_train_flat)\n",
        "accuracy_train = accuracy_score(y_train, mlp_y_train_pred)\n",
        "print(\"Train seti doğruluğu:\", accuracy_train)\n",
        "\n",
        "# Modelin test verisi üzerindeki doğruluğunu değerlendirme\n",
        "mlp_y_test_pred = mlp.predict(X_test_flat)\n",
        "accuracy_test = accuracy_score(y_test, mlp_y_test_pred)\n",
        "\n",
        "print(\"Test seti doğruluğu:\", accuracy_test)"
      ],
      "metadata": {
        "id": "8RyMtKvQoLLJ",
        "colab": {
          "base_uri": "https://localhost:8080/"
        },
        "outputId": "667aee2f-9bf0-4e24-da93-57754c8ebcda"
      },
      "execution_count": null,
      "outputs": [
        {
          "output_type": "stream",
          "name": "stdout",
          "text": [
            "Model Eğitildi\n",
            "Train seti doğruluğu: 0.9668262012012012\n",
            "Test seti doğruluğu: 0.93506006006006\n"
          ]
        }
      ]
    },
    {
      "cell_type": "markdown",
      "source": [
        "### Learning Rate Parametresi Denemeleri"
      ],
      "metadata": {
        "id": "0np1Q7rLu5Fy"
      }
    },
    {
      "cell_type": "markdown",
      "source": [
        "Base modelde learning_rate parametresi olarak \"0.001\" kullanılmış olup, aşağıda \"0.005\",\"0.01\",\"0.1\" parametreleri denenmiş olup, bu parametredeki yükseliş model başarısını azaltmaktadır. Buradan anlaşıldığı üzere yüksek öğrenme oranları, eğitimde eksik öğrenmeye (underfit) yol açabilir, düşük öğrenme oranları ise aşırı öğrenmeye (overfit) yol açabilir."
      ],
      "metadata": {
        "id": "0E870XYGxFVF"
      }
    },
    {
      "cell_type": "markdown",
      "source": [
        "#### learning_rate_init=0.005"
      ],
      "metadata": {
        "id": "tl8tdlFHxI2X"
      }
    },
    {
      "cell_type": "code",
      "source": [
        "# MLP modelini tanımlayın\n",
        "mlp = MLPClassifier(learning_rate_init=0.005, random_state=42)\n",
        "\n",
        "# Modeli eğitme\n",
        "mlp.fit(X_train_flat, y_train)\n",
        "\n",
        "print('Model Eğitildi')\n",
        "\n",
        "# Modelin train verisi üzerindeki doğruluğunu değerlendirme\n",
        "mlp_y_train_pred = mlp.predict(X_train_flat)\n",
        "accuracy_train = accuracy_score(y_train, mlp_y_train_pred)\n",
        "print(\"Train seti doğruluğu:\", accuracy_train)\n",
        "\n",
        "# Modelin test verisi üzerindeki doğruluğunu değerlendirme\n",
        "mlp_y_test_pred = mlp.predict(X_test_flat)\n",
        "accuracy_test = accuracy_score(y_test, mlp_y_test_pred)\n",
        "\n",
        "print(\"Test seti doğruluğu:\", accuracy_test)"
      ],
      "metadata": {
        "id": "m3JyEPqmvFW2",
        "colab": {
          "base_uri": "https://localhost:8080/"
        },
        "outputId": "326e064f-78f4-4ee3-d080-e76fa7f3e9a4"
      },
      "execution_count": null,
      "outputs": [
        {
          "output_type": "stream",
          "name": "stdout",
          "text": [
            "Model Eğitildi\n",
            "Train seti doğruluğu: 0.824558933933934\n",
            "Test seti doğruluğu: 0.8012387387387387\n"
          ]
        }
      ]
    },
    {
      "cell_type": "markdown",
      "source": [
        "#### learning_rate_init=0.01"
      ],
      "metadata": {
        "id": "WOaWRkywxMFq"
      }
    },
    {
      "cell_type": "code",
      "source": [
        "# MLP modelini tanımlayın\n",
        "mlp = MLPClassifier(learning_rate_init=0.01, random_state=42)\n",
        "\n",
        "# Modeli eğitme\n",
        "mlp.fit(X_train_flat, y_train)\n",
        "\n",
        "print('Model Eğitildi')\n",
        "\n",
        "\n",
        "# Modelin train verisi üzerindeki doğruluğunu değerlendirme\n",
        "mlp_y_train_pred = mlp.predict(X_train_flat)\n",
        "accuracy_train = accuracy_score(y_train, mlp_y_train_pred)\n",
        "print(\"Train seti doğruluğu:\", accuracy_train)\n",
        "\n",
        "# Modelin test verisi üzerindeki doğruluğunu değerlendirme\n",
        "mlp_y_test_pred = mlp.predict(X_test_flat)\n",
        "accuracy_test = accuracy_score(y_test, mlp_y_test_pred)\n",
        "\n",
        "print(\"Test seti doğruluğu:\", accuracy_test)"
      ],
      "metadata": {
        "id": "zHrbCXlexRRA",
        "colab": {
          "base_uri": "https://localhost:8080/"
        },
        "outputId": "2f0da666-788f-4ede-87c5-0406fce52123"
      },
      "execution_count": null,
      "outputs": [
        {
          "output_type": "stream",
          "name": "stdout",
          "text": [
            "Model Eğitildi\n",
            "Train seti doğruluğu: 0.18679617117117117\n",
            "Test seti doğruluğu: 0.18055555555555555\n"
          ]
        }
      ]
    },
    {
      "cell_type": "markdown",
      "source": [
        "#### learning_rate_init=0.1"
      ],
      "metadata": {
        "id": "C8kcr2XKxL9k"
      }
    },
    {
      "cell_type": "code",
      "source": [
        "# MLP modelini tanımlayın\n",
        "mlp = MLPClassifier(learning_rate_init=0.1, random_state=42)\n",
        "\n",
        "# Modeli eğitme\n",
        "mlp.fit(X_train_flat, y_train)\n",
        "\n",
        "print('Model Eğitildi')\n",
        "\n",
        "\n",
        "# Modelin train verisi üzerindeki doğruluğunu değerlendirme\n",
        "mlp_y_train_pred = mlp.predict(X_train_flat)\n",
        "accuracy_train = accuracy_score(y_train, mlp_y_train_pred)\n",
        "print(\"Train seti doğruluğu:\", accuracy_train)\n",
        "\n",
        "# Modelin test verisi üzerindeki doğruluğunu değerlendirme\n",
        "mlp_y_test_pred = mlp.predict(X_test_flat)\n",
        "accuracy_test = accuracy_score(y_test, mlp_y_test_pred)\n",
        "\n",
        "print(\"Test seti doğruluğu:\", accuracy_test)"
      ],
      "metadata": {
        "id": "_Qo0pVKBxZTD",
        "colab": {
          "base_uri": "https://localhost:8080/"
        },
        "outputId": "014fc829-0018-4220-e4fa-bc1868812f54"
      },
      "execution_count": null,
      "outputs": [
        {
          "output_type": "stream",
          "name": "stdout",
          "text": [
            "Model Eğitildi\n",
            "Train seti doğruluğu: 0.05405405405405406\n",
            "Test seti doğruluğu: 0.05405405405405406\n"
          ]
        }
      ]
    },
    {
      "cell_type": "markdown",
      "source": [
        "### Hidden Layer Size Parametresi Denemeleri"
      ],
      "metadata": {
        "id": "VsVObwvJu46T"
      }
    },
    {
      "cell_type": "markdown",
      "source": [
        "Farklı katmanlarda 50 ve 100 nöron sayıları denenmiş olup, nöron ve katman sayısının doğrusal bir etkiye sahip olmadığı görülmektedir."
      ],
      "metadata": {
        "id": "CpE7t6pUxL0Q"
      }
    },
    {
      "cell_type": "markdown",
      "source": [
        "#### Single Hidden Layer"
      ],
      "metadata": {
        "id": "1uky_L5hxudv"
      }
    },
    {
      "cell_type": "code",
      "source": [
        "# MLP modelini tanımlayın\n",
        "mlp = MLPClassifier(hidden_layer_sizes=(100,), random_state=42)\n",
        "\n",
        "# Modeli eğitme\n",
        "mlp.fit(X_train_flat, y_train)\n",
        "\n",
        "print('Model Eğitildi')\n",
        "\n",
        "\n",
        "# Modelin train verisi üzerindeki doğruluğunu değerlendirme\n",
        "mlp_y_train_pred = mlp.predict(X_train_flat)\n",
        "accuracy_train = accuracy_score(y_train, mlp_y_train_pred)\n",
        "print(\"Train seti doğruluğu:\", accuracy_train)\n",
        "\n",
        "# Modelin test verisi üzerindeki doğruluğunu değerlendirme\n",
        "mlp_y_test_pred = mlp.predict(X_test_flat)\n",
        "accuracy_test = accuracy_score(y_test, mlp_y_test_pred)\n",
        "\n",
        "print(\"Test seti doğruluğu:\", accuracy_test)"
      ],
      "metadata": {
        "id": "d2Um29pex5jR",
        "colab": {
          "base_uri": "https://localhost:8080/"
        },
        "outputId": "cff5e70e-c9a0-4e25-ebbf-5fe7f5c12c7e"
      },
      "execution_count": null,
      "outputs": [
        {
          "output_type": "stream",
          "name": "stdout",
          "text": [
            "Model Eğitildi\n",
            "Train seti doğruluğu: 0.9943693693693694\n",
            "Test seti doğruluğu: 0.9641516516516516\n"
          ]
        }
      ]
    },
    {
      "cell_type": "code",
      "source": [
        "# MLP modelini tanımlayın\n",
        "mlp = MLPClassifier(hidden_layer_sizes=(50,), random_state=42)\n",
        "\n",
        "# Modeli eğitme\n",
        "mlp.fit(X_train_flat, y_train)\n",
        "\n",
        "print('Model Eğitildi')\n",
        "\n",
        "\n",
        "# Modelin train verisi üzerindeki doğruluğunu değerlendirme\n",
        "mlp_y_train_pred = mlp.predict(X_train_flat)\n",
        "accuracy_train = accuracy_score(y_train, mlp_y_train_pred)\n",
        "print(\"Train seti doğruluğu:\", accuracy_train)\n",
        "\n",
        "# Modelin test verisi üzerindeki doğruluğunu değerlendirme\n",
        "mlp_y_test_pred = mlp.predict(X_test_flat)\n",
        "accuracy_test = accuracy_score(y_test, mlp_y_test_pred)\n",
        "\n",
        "print(\"Test seti doğruluğu:\", accuracy_test)"
      ],
      "metadata": {
        "id": "tje-pw1kx7mk",
        "colab": {
          "base_uri": "https://localhost:8080/"
        },
        "outputId": "7db772cc-511d-405a-fd80-84a9ad18274c"
      },
      "execution_count": null,
      "outputs": [
        {
          "output_type": "stream",
          "name": "stdout",
          "text": [
            "Model Eğitildi\n",
            "Train seti doğruluğu: 0.9574887387387387\n",
            "Test seti doğruluğu: 0.9206081081081081\n"
          ]
        }
      ]
    },
    {
      "cell_type": "markdown",
      "source": [
        "#### Two Hidden Layer"
      ],
      "metadata": {
        "id": "AJATV2mcxuT2"
      }
    },
    {
      "cell_type": "code",
      "source": [
        "# MLP modelini tanımlayın\n",
        "mlp = MLPClassifier(hidden_layer_sizes=(100,100), random_state=42)\n",
        "\n",
        "# Modeli eğitme\n",
        "mlp.fit(X_train_flat, y_train)\n",
        "\n",
        "print('Model Eğitildi')\n",
        "\n",
        "\n",
        "# Modelin train verisi üzerindeki doğruluğunu değerlendirme\n",
        "mlp_y_train_pred = mlp.predict(X_train_flat)\n",
        "accuracy_train = accuracy_score(y_train, mlp_y_train_pred)\n",
        "print(\"Train seti doğruluğu:\", accuracy_train)\n",
        "\n",
        "# Modelin test verisi üzerindeki doğruluğunu değerlendirme\n",
        "mlp_y_test_pred = mlp.predict(X_test_flat)\n",
        "accuracy_test = accuracy_score(y_test, mlp_y_test_pred)\n",
        "\n",
        "print(\"Test seti doğruluğu:\", accuracy_test)"
      ],
      "metadata": {
        "id": "QwwX0dmgx-pq",
        "colab": {
          "base_uri": "https://localhost:8080/"
        },
        "outputId": "08d9b253-b2d7-4e70-cd47-7d36e509cde0"
      },
      "execution_count": null,
      "outputs": [
        {
          "output_type": "stream",
          "name": "stdout",
          "text": [
            "Model Eğitildi\n",
            "Train seti doğruluğu: 0.9839996246246246\n",
            "Test seti doğruluğu: 0.9590840840840841\n"
          ]
        }
      ]
    },
    {
      "cell_type": "code",
      "source": [
        "# MLP modelini tanımlayın\n",
        "mlp = MLPClassifier(hidden_layer_sizes=(50,50), random_state=42)\n",
        "\n",
        "# Modeli eğitme\n",
        "mlp.fit(X_train_flat, y_train)\n",
        "\n",
        "print('Model Eğitildi')\n",
        "\n",
        "\n",
        "# Modelin train verisi üzerindeki doğruluğunu değerlendirme\n",
        "mlp_y_train_pred = mlp.predict(X_train_flat)\n",
        "accuracy_train = accuracy_score(y_train, mlp_y_train_pred)\n",
        "print(\"Train seti doğruluğu:\", accuracy_train)\n",
        "\n",
        "# Modelin test verisi üzerindeki doğruluğunu değerlendirme\n",
        "mlp_y_test_pred = mlp.predict(X_test_flat)\n",
        "accuracy_test = accuracy_score(y_test, mlp_y_test_pred)\n",
        "\n",
        "print(\"Test seti doğruluğu:\", accuracy_test)"
      ],
      "metadata": {
        "id": "2Iahcn4ZyA9y",
        "colab": {
          "base_uri": "https://localhost:8080/"
        },
        "outputId": "9e5e022d-61a0-4ad7-caf5-a9fa19959093"
      },
      "execution_count": null,
      "outputs": [
        {
          "output_type": "stream",
          "name": "stdout",
          "text": [
            "Model Eğitildi\n",
            "Train seti doğruluğu: 0.9855480480480481\n",
            "Test seti doğruluğu: 0.9532657657657657\n"
          ]
        }
      ]
    },
    {
      "cell_type": "markdown",
      "source": [
        "#### Three Hidden Layer"
      ],
      "metadata": {
        "id": "tyv9Rpu7xuJC"
      }
    },
    {
      "cell_type": "code",
      "source": [
        "# MLP modelini tanımlayın\n",
        "mlp = MLPClassifier(hidden_layer_sizes=(100,100,100), random_state=42)\n",
        "\n",
        "# Modeli eğitme\n",
        "mlp.fit(X_train_flat, y_train)\n",
        "\n",
        "print('Model Eğitildi')\n",
        "\n",
        "\n",
        "# Modelin train verisi üzerindeki doğruluğunu değerlendirme\n",
        "mlp_y_train_pred = mlp.predict(X_train_flat)\n",
        "accuracy_train = accuracy_score(y_train, mlp_y_train_pred)\n",
        "print(\"Train seti doğruluğu:\", accuracy_train)\n",
        "\n",
        "# Modelin test verisi üzerindeki doğruluğunu değerlendirme\n",
        "mlp_y_test_pred = mlp.predict(X_test_flat)\n",
        "accuracy_test = accuracy_score(y_test, mlp_y_test_pred)\n",
        "\n",
        "print(\"Test seti doğruluğu:\", accuracy_test)"
      ],
      "metadata": {
        "id": "p8cc-qNfvGVe",
        "colab": {
          "base_uri": "https://localhost:8080/"
        },
        "outputId": "64e59183-c34e-4d0f-f987-cee4ad12e6b7"
      },
      "execution_count": null,
      "outputs": [
        {
          "output_type": "stream",
          "name": "stdout",
          "text": [
            "Model Eğitildi\n",
            "Train seti doğruluğu: 0.9860172672672672\n",
            "Test seti doğruluğu: 0.9555180180180181\n"
          ]
        }
      ]
    },
    {
      "cell_type": "code",
      "source": [
        "# MLP modelini tanımlayın\n",
        "mlp = MLPClassifier(hidden_layer_sizes=(50,50,50), random_state=42)\n",
        "\n",
        "# Modeli eğitme\n",
        "mlp.fit(X_train_flat, y_train)\n",
        "\n",
        "print('Model Eğitildi')\n",
        "\n",
        "\n",
        "# Modelin train verisi üzerindeki doğruluğunu değerlendirme\n",
        "mlp_y_train_pred = mlp.predict(X_train_flat)\n",
        "accuracy_train = accuracy_score(y_train, mlp_y_train_pred)\n",
        "print(\"Train seti doğruluğu:\", accuracy_train)\n",
        "\n",
        "# Modelin test verisi üzerindeki doğruluğunu değerlendirme\n",
        "mlp_y_test_pred = mlp.predict(X_test_flat)\n",
        "accuracy_test = accuracy_score(y_test, mlp_y_test_pred)\n",
        "\n",
        "print(\"Test seti doğruluğu:\", accuracy_test)"
      ],
      "metadata": {
        "id": "A2cTWny7yGtG",
        "colab": {
          "base_uri": "https://localhost:8080/"
        },
        "outputId": "b301c3e3-2dca-4eee-c5d0-d8a48cd10aad"
      },
      "execution_count": null,
      "outputs": [
        {
          "output_type": "stream",
          "name": "stdout",
          "text": [
            "Model Eğitildi\n",
            "Train seti doğruluğu: 0.9886448948948949\n",
            "Test seti doğruluğu: 0.9542042042042042\n"
          ]
        }
      ]
    },
    {
      "cell_type": "markdown",
      "source": [
        "### Parametreleri beraber deneyelim"
      ],
      "metadata": {
        "id": "r0NSBSFIu4uW"
      }
    },
    {
      "cell_type": "markdown",
      "source": [
        "hidden_layer_sizes=(100,100,100), learning_rate_init=0.005, activation='relu', random_state=42"
      ],
      "metadata": {
        "id": "jJI9VgjSyMU4"
      }
    },
    {
      "cell_type": "code",
      "source": [
        "# MLP modelini tanımlayın\n",
        "mlp = MLPClassifier(hidden_layer_sizes=(100,100,100), learning_rate_init=0.005, activation='relu', random_state=42)\n",
        "\n",
        "# Modeli eğitme\n",
        "mlp.fit(X_train_flat, y_train)\n",
        "\n",
        "print('Model Eğitildi')\n",
        "\n",
        "# Modelin train verisi üzerindeki doğruluğunu değerlendirme\n",
        "mlp_y_train_pred = mlp.predict(X_train_flat)\n",
        "accuracy_train = accuracy_score(y_train, mlp_y_train_pred)\n",
        "print(\"Train seti doğruluğu:\", accuracy_train)\n",
        "\n",
        "# Modelin test verisi üzerindeki doğruluğunu değerlendirme\n",
        "mlp_y_test_pred = mlp.predict(X_test_flat)\n",
        "accuracy_test = accuracy_score(y_test, mlp_y_test_pred)\n",
        "\n",
        "print(\"Test seti doğruluğu:\", accuracy_test)"
      ],
      "metadata": {
        "id": "sokQYe_5vHEr",
        "colab": {
          "base_uri": "https://localhost:8080/"
        },
        "outputId": "ee042b8f-269d-4bf2-e22d-53df5d611f7d"
      },
      "execution_count": null,
      "outputs": [
        {
          "output_type": "stream",
          "name": "stdout",
          "text": [
            "Model Eğitildi\n",
            "Train seti doğruluğu: 0.9853134384384384\n",
            "Test seti doğruluğu: 0.9611486486486487\n"
          ]
        }
      ]
    },
    {
      "cell_type": "code",
      "source": [
        "mlp.n_iter_"
      ],
      "metadata": {
        "id": "Z70kImEayOmV",
        "colab": {
          "base_uri": "https://localhost:8080/"
        },
        "outputId": "6b8e7a53-ae7d-4d60-b912-b1d35b70e47e"
      },
      "execution_count": null,
      "outputs": [
        {
          "output_type": "execute_result",
          "data": {
            "text/plain": [
              "57"
            ]
          },
          "metadata": {},
          "execution_count": 25
        }
      ]
    },
    {
      "cell_type": "markdown",
      "source": [
        "Aşağıdaki parametreleri denediğimizde test doğruluğu %96 civarında çıkmıştır. Bu doğruluğa ise 54 iterasyon sonucunda ulaşılmıştır.\n",
        "\n",
        "hidden_layer_sizes=(100,100,100),\n",
        "learning_rate_init=0.005,\n",
        "activation='relu'\n"
      ],
      "metadata": {
        "id": "aiPmUF0YyQu_"
      }
    },
    {
      "cell_type": "markdown",
      "source": [
        "## b.\tRBF Modeli"
      ],
      "metadata": {
        "id": "ub9L-_jpVlKs"
      }
    },
    {
      "cell_type": "markdown",
      "source": [
        "sklearn kütüphanesinde doğrudan RBF modeli bulunmadığından, Keras kütüphanesi kullanılmıştır."
      ],
      "metadata": {
        "id": "8LvihYc6yZYE"
      }
    },
    {
      "cell_type": "markdown",
      "source": [
        "TensorFlow, GPU'yu otomatik olarak algılar. Kodda tf.test.is_gpu_available() fonksiyonu ile GPU kullanılabilirliğini kontrol ediyoruz."
      ],
      "metadata": {
        "id": "sIg8fyjcycGP"
      }
    },
    {
      "cell_type": "code",
      "source": [
        "# TensorFlow GPU Kontrolü\n",
        "if tf.test.is_gpu_available():\n",
        "    print(\"CUDA is available. Using GPU:\", tf.config.list_physical_devices('GPU'))\n",
        "else:\n",
        "    print(\"CUDA is not available. Using CPU.\")"
      ],
      "metadata": {
        "id": "nrsB6jcoEjR9",
        "colab": {
          "base_uri": "https://localhost:8080/"
        },
        "outputId": "c89f4149-3a79-46bd-e9a2-bf0c7658b7f8"
      },
      "execution_count": null,
      "outputs": [
        {
          "output_type": "stream",
          "name": "stderr",
          "text": [
            "WARNING:tensorflow:From <ipython-input-26-a006ca619ee8>:2: is_gpu_available (from tensorflow.python.framework.test_util) is deprecated and will be removed in a future version.\n",
            "Instructions for updating:\n",
            "Use `tf.config.list_physical_devices('GPU')` instead.\n"
          ]
        },
        {
          "output_type": "stream",
          "name": "stdout",
          "text": [
            "CUDA is available. Using GPU: [PhysicalDevice(name='/physical_device:GPU:0', device_type='GPU')]\n"
          ]
        }
      ]
    },
    {
      "cell_type": "markdown",
      "source": [
        "### Base Model"
      ],
      "metadata": {
        "id": "rc4GKO99ykHP"
      }
    },
    {
      "cell_type": "markdown",
      "source": [
        "RBFLayer: Özelleştirilmiş bir katman olarak tanımlandı ve Gaussian benzeri bir RBF işlevi kullanıyor.\n",
        "\n",
        "Model, RBF katmanını, ardından bir Dense katmanı ve en sonunda bir softmax çıkış katmanını içeriyor.\n"
      ],
      "metadata": {
        "id": "K7ZJrtBuymyQ"
      }
    },
    {
      "cell_type": "code",
      "source": [
        "class RBFLayer(Layer):\n",
        "    def __init__(self, units, gamma=None, **kwargs):\n",
        "        super(RBFLayer, self).__init__(**kwargs)\n",
        "        self.units = units\n",
        "        self.gamma = gamma\n",
        "\n",
        "    def build(self, input_shape):\n",
        "        self.centers = self.add_weight(name='centers',\n",
        "                                       shape=(self.units, input_shape[-1]),\n",
        "                                       initializer='uniform',\n",
        "                                       trainable=True)\n",
        "        if self.gamma is None:\n",
        "            self.gamma = 1.0 / (2.0 * (tf.math.reduce_std(self.centers) ** 2))\n",
        "        super(RBFLayer, self).build(input_shape)\n",
        "\n",
        "    def call(self, inputs):\n",
        "        # Boyutların genişletilmesi\n",
        "        inputs_expanded = tf.expand_dims(inputs, axis=1)  # (?, 1, features)\n",
        "        centers_expanded = tf.expand_dims(self.centers, axis=0)  # (1, units, features)\n",
        "\n",
        "        # Fark hesaplama\n",
        "        diff = inputs_expanded - centers_expanded  # (?, units, features)\n",
        "\n",
        "        # L2 normu (karesel farklar toplamı)\n",
        "        l2 = tf.reduce_sum(tf.square(diff), axis=-1)  # (?, units)\n",
        "\n",
        "        # RBF aktivasyonu\n",
        "        return tf.exp(-self.gamma * l2)\n",
        "\n",
        "\n",
        "# RBF Modeli Tanımı\n",
        "def create_rbf_model(input_shape, rbf_units, dense_units, output_units):\n",
        "    inputs = Input(shape=input_shape)\n",
        "    x = RBFLayer(rbf_units)(inputs)\n",
        "    x = Dense(dense_units, activation='relu')(x)\n",
        "    outputs = Dense(output_units, activation='softmax')(x)\n",
        "    model = Model(inputs=inputs, outputs=outputs)\n",
        "    model.compile(optimizer='adam', loss='sparse_categorical_crossentropy', metrics=['accuracy'])\n",
        "    return model\n"
      ],
      "metadata": {
        "id": "Hs9v31XUyoyE"
      },
      "execution_count": null,
      "outputs": []
    },
    {
      "cell_type": "markdown",
      "source": [
        "Hiperparametreler:\n",
        "\n",
        "rbf_units: RBF katmanındaki nöron sayısı.\n",
        "    \n",
        "dense_units: Dense katmanındaki nöron sayısı.\n",
        "\n",
        "output_units: Sınıf sayısı"
      ],
      "metadata": {
        "id": "FMG1loDvyr_p"
      }
    },
    {
      "cell_type": "code",
      "source": [
        "# Modelin oluşturulması ve eğitilmesi\n",
        "input_shape = X_train_flat.shape[1:]  # Giriş şekli\n",
        "rbf_units = 100  # RBF katmanındaki nöron sayısı\n",
        "dense_units = 64  # Dense katmandaki nöron sayısı\n",
        "output_units = len(np.unique(y_train))  # Sınıf sayısı\n",
        "\n",
        "input_shape\n"
      ],
      "metadata": {
        "id": "rExsLTAFyxpU",
        "colab": {
          "base_uri": "https://localhost:8080/"
        },
        "outputId": "10527965-d357-4726-d736-2546425eb124"
      },
      "execution_count": null,
      "outputs": [
        {
          "output_type": "execute_result",
          "data": {
            "text/plain": [
              "(3072,)"
            ]
          },
          "metadata": {},
          "execution_count": 28
        }
      ]
    },
    {
      "cell_type": "code",
      "source": [
        "rbf_model = create_rbf_model(input_shape, rbf_units, dense_units, output_units)\n",
        "\n",
        "# Modeli eğitme\n",
        "rbf_model.fit(X_train_flat, y_train, epochs=10, batch_size=32, validation_split=0.2)"
      ],
      "metadata": {
        "id": "BtQoMwMWyy8y",
        "colab": {
          "base_uri": "https://localhost:8080/"
        },
        "outputId": "abf5f377-a717-4e3a-ebc3-e74562970299"
      },
      "execution_count": null,
      "outputs": [
        {
          "output_type": "stream",
          "name": "stdout",
          "text": [
            "Epoch 1/10\n",
            "\u001b[1m533/533\u001b[0m \u001b[32m━━━━━━━━━━━━━━━━━━━━\u001b[0m\u001b[37m\u001b[0m \u001b[1m12s\u001b[0m 14ms/step - accuracy: 0.0554 - loss: 3.7175 - val_accuracy: 0.0542 - val_loss: 3.6160\n",
            "Epoch 2/10\n",
            "\u001b[1m533/533\u001b[0m \u001b[32m━━━━━━━━━━━━━━━━━━━━\u001b[0m\u001b[37m\u001b[0m \u001b[1m1s\u001b[0m 2ms/step - accuracy: 0.0563 - loss: 3.5964 - val_accuracy: 0.0544 - val_loss: 3.5498\n",
            "Epoch 3/10\n",
            "\u001b[1m533/533\u001b[0m \u001b[32m━━━━━━━━━━━━━━━━━━━━\u001b[0m\u001b[37m\u001b[0m \u001b[1m1s\u001b[0m 2ms/step - accuracy: 0.0588 - loss: 3.5410 - val_accuracy: 0.0544 - val_loss: 3.5207\n",
            "Epoch 4/10\n",
            "\u001b[1m533/533\u001b[0m \u001b[32m━━━━━━━━━━━━━━━━━━━━\u001b[0m\u001b[37m\u001b[0m \u001b[1m1s\u001b[0m 2ms/step - accuracy: 0.0561 - loss: 3.5174 - val_accuracy: 0.0544 - val_loss: 3.5084\n",
            "Epoch 5/10\n",
            "\u001b[1m533/533\u001b[0m \u001b[32m━━━━━━━━━━━━━━━━━━━━\u001b[0m\u001b[37m\u001b[0m \u001b[1m1s\u001b[0m 2ms/step - accuracy: 0.0570 - loss: 3.5066 - val_accuracy: 0.0544 - val_loss: 3.5029\n",
            "Epoch 6/10\n",
            "\u001b[1m533/533\u001b[0m \u001b[32m━━━━━━━━━━━━━━━━━━━━\u001b[0m\u001b[37m\u001b[0m \u001b[1m1s\u001b[0m 2ms/step - accuracy: 0.0551 - loss: 3.4960 - val_accuracy: 0.0544 - val_loss: 3.5005\n",
            "Epoch 7/10\n",
            "\u001b[1m533/533\u001b[0m \u001b[32m━━━━━━━━━━━━━━━━━━━━\u001b[0m\u001b[37m\u001b[0m \u001b[1m1s\u001b[0m 2ms/step - accuracy: 0.0597 - loss: 3.5038 - val_accuracy: 0.0544 - val_loss: 3.4993\n",
            "Epoch 8/10\n",
            "\u001b[1m533/533\u001b[0m \u001b[32m━━━━━━━━━━━━━━━━━━━━\u001b[0m\u001b[37m\u001b[0m \u001b[1m1s\u001b[0m 2ms/step - accuracy: 0.0590 - loss: 3.4978 - val_accuracy: 0.0544 - val_loss: 3.4988\n",
            "Epoch 9/10\n",
            "\u001b[1m533/533\u001b[0m \u001b[32m━━━━━━━━━━━━━━━━━━━━\u001b[0m\u001b[37m\u001b[0m \u001b[1m1s\u001b[0m 2ms/step - accuracy: 0.0574 - loss: 3.4899 - val_accuracy: 0.0544 - val_loss: 3.4986\n",
            "Epoch 10/10\n",
            "\u001b[1m533/533\u001b[0m \u001b[32m━━━━━━━━━━━━━━━━━━━━\u001b[0m\u001b[37m\u001b[0m \u001b[1m1s\u001b[0m 2ms/step - accuracy: 0.0565 - loss: 3.4925 - val_accuracy: 0.0544 - val_loss: 3.4985\n"
          ]
        },
        {
          "output_type": "execute_result",
          "data": {
            "text/plain": [
              "<keras.src.callbacks.history.History at 0x7887dd6a08b0>"
            ]
          },
          "metadata": {},
          "execution_count": 29
        }
      ]
    },
    {
      "cell_type": "code",
      "source": [
        "# RBF Model Test Sonuçları\n",
        "y_pred_rbf = np.argmax(rbf_model.predict(X_test_flat), axis=1)\n",
        "\n",
        "# Performans Metikleri\n",
        "rbf_accuracy = accuracy_score(y_test, y_pred_rbf)\n",
        "print(\"\\nRBF Model Test Doğruluğu:\", rbf_accuracy)"
      ],
      "metadata": {
        "id": "cBeEKi9Jy1VH",
        "colab": {
          "base_uri": "https://localhost:8080/"
        },
        "outputId": "bb9fd98f-9b7c-4259-de8d-2b0c178f0f3a"
      },
      "execution_count": null,
      "outputs": [
        {
          "output_type": "stream",
          "name": "stdout",
          "text": [
            "\u001b[1m167/167\u001b[0m \u001b[32m━━━━━━━━━━━━━━━━━━━━\u001b[0m\u001b[37m\u001b[0m \u001b[1m2s\u001b[0m 8ms/step\n",
            "\n",
            "RBF Model Test Doğruluğu: 0.05630630630630631\n"
          ]
        }
      ]
    },
    {
      "cell_type": "markdown",
      "source": [
        "Test seti doğruluğuna (%6) baktığımızda çok düşük çıkmıştır. Hem train hem de test verilerinde düşük performans olması eksik öğrenme olduğunu göstermektedir. Hiperparametre ayarları ve özellikle resimlerinin manipule edilerek (renk, boyut vb) yeniden denemeler yapılması başarının artırılmasında etkili olabilir."
      ],
      "metadata": {
        "id": "A3WUZ0LTy30x"
      }
    },
    {
      "cell_type": "markdown",
      "source": [
        "# 4. Performans Ölçümleri"
      ],
      "metadata": {
        "id": "2yMv5ChOU_QN"
      }
    },
    {
      "cell_type": "markdown",
      "source": [
        "## a.\tConfusion Matrix"
      ],
      "metadata": {
        "id": "DmBJjZ0AVpZ8"
      }
    },
    {
      "cell_type": "markdown",
      "source": [
        "### MLP Modeli Karışıklık Matrisi"
      ],
      "metadata": {
        "id": "We9aJl9WzA84"
      }
    },
    {
      "cell_type": "markdown",
      "source": [
        "Confusion Matrix bakıldığında doğruluğun yüksek olduğu görülmektedir.\n",
        "\n",
        "Özellikle birbirine benzeyen ilk 5 levha için diğerlerine göre daha fazla yanlış tahminlerde bulunmuştur.\n",
        "\n",
        "\n",
        "\n",
        "```\n",
        "Tahmin 1 Gerçek 2 | 8 adet\n",
        "Tahmin 2 Gerçek 1 | 7 adet\n",
        "Tahmin 4 Gerçek 2 | 14 adet\n",
        "Tahmin 5 Gerçek 3 | 14 adet\n",
        "Tahmin 2 Gerçek 5 | 5 adet\n",
        "Tahmin 3 Gerçek 5 | 4 adet\n",
        "\n",
        "0\tSpeed limit (20km/h)\n",
        "1\tSpeed limit (30km/h)\n",
        "2\tSpeed limit (50km/h)\n",
        "3\tSpeed limit (60km/h)\n",
        "4\tSpeed limit (70km/h)\n",
        "5\tSpeed limit (80km/h)\n",
        "```\n"
      ],
      "metadata": {
        "id": "Qa6TnjCPzEAz"
      }
    },
    {
      "cell_type": "code",
      "source": [
        "cm_mlp = confusion_matrix(y_test, mlp_y_test_pred)\n",
        "\n",
        "plt.figure(figsize = (36,24))\n",
        "sns.heatmap(cm_mlp, annot=True, fmt=\"d\", cmap=\"Blues\", cbar=False)\n",
        "plt.title(\"MLP Modeli Karışıklık Matrisi\")\n",
        "plt.xlabel(\"Tahmin Edilen Etiket\")\n",
        "plt.ylabel(\"Gerçek Etiket\")\n",
        "plt.show()"
      ],
      "metadata": {
        "id": "UM694cqvzHiZ",
        "colab": {
          "base_uri": "https://localhost:8080/",
          "height": 991
        },
        "outputId": "ddb23392-0a1c-4c05-a0cb-86634bebeef9"
      },
      "execution_count": null,
      "outputs": [
        {
          "output_type": "display_data",
          "data": {
            "text/plain": [
              "<Figure size 3600x2400 with 1 Axes>"
            ],
            "image/png": "[encoded data removed]"
          },
          "metadata": {}
        }
      ]
    },
    {
      "cell_type": "markdown",
      "source": [
        "### RBF Modeli Karışıklık Matrisi"
      ],
      "metadata": {
        "id": "fMoHDartzMAg"
      }
    },
    {
      "cell_type": "markdown",
      "source": [
        "RBF Modeli neredeyse tüm tahminleri \"2\" (Speed limit (50km/h)\n",
        " ) dir. Bu da modelin az öğrendiğini desteklemektedir. İlerleyen aşamalarda hiperparametre optimizasyonu ile daha iyi sonuçlar almak için çalışmalar yapacağız."
      ],
      "metadata": {
        "id": "oTGM3iONzONO"
      }
    },
    {
      "cell_type": "code",
      "source": [
        "cm_rbf = confusion_matrix(y_test, y_pred_rbf)\n",
        "plt.figure(figsize = (36,24))\n",
        "sns.heatmap(cm_rbf, annot=True, fmt=\"d\", cmap=\"Oranges\", cbar=False)\n",
        "plt.title(\"RBF Modeli Karışıklık Matrisi\")\n",
        "plt.xlabel(\"Tahmin Edilen Etiket\")\n",
        "plt.ylabel(\"Gerçek Etiket\")\n",
        "plt.show()\n"
      ],
      "metadata": {
        "id": "mW9-MQYjzLsw",
        "colab": {
          "base_uri": "https://localhost:8080/",
          "height": 991
        },
        "outputId": "93bec59e-38f7-4d1f-f469-14110b26e999"
      },
      "execution_count": null,
      "outputs": [
        {
          "output_type": "display_data",
          "data": {
            "text/plain": [
              "<Figure size 3600x2400 with 1 Axes>"
            ],
            "image/png": "[encoded data removed]"
          },
          "metadata": {}
        }
      ]
    },
    {
      "cell_type": "markdown",
      "source": [
        "## b.\tPerformans Metrikleri:"
      ],
      "metadata": {
        "id": "5xXhozroVpR6"
      }
    },
    {
      "cell_type": "markdown",
      "source": [
        "### MLP Modeli Sınıflandırma Raporu"
      ],
      "metadata": {
        "id": "D0GwW1RozVn1"
      }
    },
    {
      "cell_type": "markdown",
      "source": [
        "Sınıf bazında \"precission\", \"recall\" ve \"f1-score\" aşağıda verilmiştir. Modelin doğruluğu %96 hesaplanmış olup, diğer metrikler aşağıdaki tabloda verilmiştir."
      ],
      "metadata": {
        "id": "3k2W-KghzX0N"
      }
    },
    {
      "cell_type": "code",
      "source": [
        "# MLP Modeli Değerlendirme\n",
        "print(classification_report(y_test, mlp_y_test_pred))"
      ],
      "metadata": {
        "id": "e7W7ajgDnoOD",
        "colab": {
          "base_uri": "https://localhost:8080/"
        },
        "outputId": "af58aa46-e96f-4f82-a33a-fc98f632b6b0"
      },
      "execution_count": null,
      "outputs": [
        {
          "output_type": "stream",
          "name": "stdout",
          "text": [
            "              precision    recall  f1-score   support\n",
            "\n",
            "           0       1.00      0.90      0.95        30\n",
            "           1       0.96      0.94      0.95       300\n",
            "           2       0.95      0.90      0.92       300\n",
            "           3       0.94      0.91      0.92       192\n",
            "           4       0.92      0.98      0.95       264\n",
            "           5       0.91      0.93      0.92       252\n",
            "           6       1.00      0.98      0.99        60\n",
            "           7       0.98      0.92      0.95       192\n",
            "           8       0.93      0.98      0.96       192\n",
            "           9       0.99      0.95      0.97       198\n",
            "          10       0.98      0.97      0.98       270\n",
            "          11       1.00      0.96      0.98       180\n",
            "          12       0.99      1.00      1.00       282\n",
            "          13       0.98      0.99      0.99       288\n",
            "          14       0.98      1.00      0.99       108\n",
            "          15       0.85      0.98      0.91        84\n",
            "          16       0.97      1.00      0.98        60\n",
            "          17       0.99      0.99      0.99       150\n",
            "          18       0.96      0.94      0.95       162\n",
            "          19       0.97      0.93      0.95        30\n",
            "          20       1.00      0.79      0.88        48\n",
            "          21       0.92      1.00      0.96        48\n",
            "          22       0.95      1.00      0.97        54\n",
            "          23       0.99      0.94      0.96        72\n",
            "          24       0.97      0.97      0.97        36\n",
            "          25       0.97      0.97      0.97       204\n",
            "          26       0.90      0.96      0.93        84\n",
            "          27       0.92      0.97      0.95        36\n",
            "          28       0.97      0.96      0.97        72\n",
            "          29       0.94      0.89      0.91        36\n",
            "          30       0.93      0.95      0.94        60\n",
            "          31       0.96      0.99      0.98       108\n",
            "          32       0.94      0.92      0.93        36\n",
            "          33       0.99      0.96      0.97        96\n",
            "          34       0.98      0.98      0.98        60\n",
            "          35       0.98      0.99      0.98       162\n",
            "          36       0.94      0.94      0.94        54\n",
            "          37       0.88      1.00      0.94        30\n",
            "          38       0.98      0.99      0.99       276\n",
            "          39       0.89      1.00      0.94        42\n",
            "          40       1.00      0.94      0.97        48\n",
            "          41       0.97      0.97      0.97        36\n",
            "          42       1.00      0.94      0.97        36\n",
            "\n",
            "    accuracy                           0.96      5328\n",
            "   macro avg       0.96      0.96      0.96      5328\n",
            "weighted avg       0.96      0.96      0.96      5328\n",
            "\n"
          ]
        }
      ]
    },
    {
      "cell_type": "markdown",
      "source": [
        "### RBF Modeli Sınıflandırma Raporu"
      ],
      "metadata": {
        "id": "xjI46k2Szb8h"
      }
    },
    {
      "cell_type": "markdown",
      "source": [
        "Sınıf bazında \"precission\", \"recall\" ve \"f1-score\" aşağıda verilmiştir. Modelin doğruluğu \"%6\" hesaplanmış olup, 2. sınıf hariç tüm metrikler sıfır olarak hesaplanmıştır."
      ],
      "metadata": {
        "id": "6kIuunj2zeUa"
      }
    },
    {
      "cell_type": "code",
      "source": [
        "# RBF Modeli Değerlendirme\n",
        "print(classification_report(y_test, y_pred_rbf))\n"
      ],
      "metadata": {
        "id": "kqAEwjLnzf8M",
        "colab": {
          "base_uri": "https://localhost:8080/"
        },
        "outputId": "5d2eccd3-b276-4291-ebe6-28b0775e67fa"
      },
      "execution_count": null,
      "outputs": [
        {
          "output_type": "stream",
          "name": "stdout",
          "text": [
            "              precision    recall  f1-score   support\n",
            "\n",
            "           0       0.00      0.00      0.00        30\n",
            "           1       0.00      0.00      0.00       300\n",
            "           2       0.06      1.00      0.11       300\n",
            "           3       0.00      0.00      0.00       192\n",
            "           4       0.00      0.00      0.00       264\n",
            "           5       0.00      0.00      0.00       252\n",
            "           6       0.00      0.00      0.00        60\n",
            "           7       0.00      0.00      0.00       192\n",
            "           8       0.00      0.00      0.00       192\n",
            "           9       0.00      0.00      0.00       198\n",
            "          10       0.00      0.00      0.00       270\n",
            "          11       0.00      0.00      0.00       180\n",
            "          12       0.00      0.00      0.00       282\n",
            "          13       0.00      0.00      0.00       288\n",
            "          14       0.00      0.00      0.00       108\n",
            "          15       0.00      0.00      0.00        84\n",
            "          16       0.00      0.00      0.00        60\n",
            "          17       0.00      0.00      0.00       150\n",
            "          18       0.00      0.00      0.00       162\n",
            "          19       0.00      0.00      0.00        30\n",
            "          20       0.00      0.00      0.00        48\n",
            "          21       0.00      0.00      0.00        48\n",
            "          22       0.00      0.00      0.00        54\n",
            "          23       0.00      0.00      0.00        72\n",
            "          24       0.00      0.00      0.00        36\n",
            "          25       0.00      0.00      0.00       204\n",
            "          26       0.00      0.00      0.00        84\n",
            "          27       0.00      0.00      0.00        36\n",
            "          28       0.00      0.00      0.00        72\n",
            "          29       0.00      0.00      0.00        36\n",
            "          30       0.00      0.00      0.00        60\n",
            "          31       0.00      0.00      0.00       108\n",
            "          32       0.00      0.00      0.00        36\n",
            "          33       0.00      0.00      0.00        96\n",
            "          34       0.00      0.00      0.00        60\n",
            "          35       0.00      0.00      0.00       162\n",
            "          36       0.00      0.00      0.00        54\n",
            "          37       0.00      0.00      0.00        30\n",
            "          38       0.00      0.00      0.00       276\n",
            "          39       0.00      0.00      0.00        42\n",
            "          40       0.00      0.00      0.00        48\n",
            "          41       0.00      0.00      0.00        36\n",
            "          42       0.00      0.00      0.00        36\n",
            "\n",
            "    accuracy                           0.06      5328\n",
            "   macro avg       0.00      0.02      0.00      5328\n",
            "weighted avg       0.00      0.06      0.01      5328\n",
            "\n"
          ]
        }
      ]
    },
    {
      "cell_type": "markdown",
      "source": [
        "# 5. Hiperparametre Denemeleri ve Sonuçları Karşılaştırma"
      ],
      "metadata": {
        "id": "zw7YbvgwU_IA"
      }
    },
    {
      "cell_type": "markdown",
      "source": [
        "## a.\tHiperparametre Denemeleri"
      ],
      "metadata": {
        "id": "OiRpH6RVU-87"
      }
    },
    {
      "cell_type": "markdown",
      "source": [
        "### MLP"
      ],
      "metadata": {
        "id": "TtrlVfEnQptj"
      }
    },
    {
      "cell_type": "markdown",
      "source": [
        "Eğer kapsamlı bir arama yapmak ve parametrelerin küçük bir aralıkta hassas bir şekilde optimize edilmesi gerekiyorsa, GridSearchCV tercih edilebilir.\n",
        "Eğer zaman ve kaynak kısıtlamalarınız varsa veya geniş bir parametre alanında daha hızlı bir şekilde iyi sonuçlar arıyorsanız, RandomizedSearchCV daha iyi bir seçim olabilir.\n",
        "\n",
        "Daha hızlı sonuca ulaşabilmek için RandomizedSearchCV tercih ettim."
      ],
      "metadata": {
        "id": "1WraTeF1zlKZ"
      }
    },
    {
      "cell_type": "code",
      "source": [
        "# uniform(0.0001, 0.01) -> [0.0001, 0.01] aralığında rastgele değerler üretir.\n",
        "\n",
        "# Hiperparametre aralıkları\n",
        "param_dist = {\n",
        "    'hidden_layer_sizes': [(64,), (128,), (64, 64), (128, 64), (128, 128), (128, 128, 128)],\n",
        "    'activation': ['tanh', 'relu'],\n",
        "    'solver': ['adam', 'sgd'],\n",
        "    'alpha': uniform(0.0001, 0.01),  # L2 düzenlileştirme\n",
        "    'learning_rate_init': uniform(0.001, 0.01),\n",
        "    'max_iter': [500, 1000]\n",
        "}\n",
        "\n",
        "# Model ve RandomizedSearchCV\n",
        "mlp = MLPClassifier(random_state=42)\n",
        "search_mlp = RandomizedSearchCV(\n",
        "    estimator=mlp,\n",
        "    param_distributions=param_dist,\n",
        "    n_iter=20,\n",
        "    scoring='accuracy',\n",
        "    cv=3,\n",
        "    verbose=2,\n",
        "    random_state=42,\n",
        "    n_jobs=-1\n",
        ")\n",
        "\n",
        "search_mlp.fit(X_train_flat, y_train)"
      ],
      "metadata": {
        "id": "5VGiG2Fyzk3h",
        "colab": {
          "base_uri": "https://localhost:8080/",
          "height": 153
        },
        "outputId": "70d67ce1-62db-4bda-e3d5-fe028dc3a4b6"
      },
      "execution_count": null,
      "outputs": [
        {
          "output_type": "stream",
          "name": "stdout",
          "text": [
            "Fitting 3 folds for each of 20 candidates, totalling 60 fits\n"
          ]
        },
        {
          "output_type": "execute_result",
          "data": {
            "text/plain": [
              "RandomizedSearchCV(cv=3, estimator=MLPClassifier(random_state=42), n_iter=20,\n",
              "                   n_jobs=-1,\n",
              "                   param_distributions={'activation': ['tanh', 'relu'],\n",
              "                                        'alpha': <scipy.stats._distn_infrastructure.rv_continuous_frozen object at 0x78870c50f550>,\n",
              "                                        'hidden_layer_sizes': [(64,), (128,),\n",
              "                                                               (64, 64),\n",
              "                                                               (128, 64),\n",
              "                                                               (128, 128),\n",
              "                                                               (128, 128, 128)],\n",
              "                                        'learning_rate_init': <scipy.stats._distn_infrastructure.rv_continuous_frozen object at 0x7887dca04b50>,\n",
              "                                        'max_iter': [500, 1000],\n",
              "                                        'solver': ['adam', 'sgd']},\n",
              "                   random_state=42, scoring='accuracy', verbose=2)"
            ],
            "text/html": [
              "<style>#sk-container-id-1 {\n",
              "  /* Definition of color scheme common for light and dark mode */\n",
              "  --sklearn-color-text: black;\n",
              "  --sklearn-color-line: gray;\n",
              "  /* Definition of color scheme for unfitted estimators */\n",
              "  --sklearn-color-unfitted-level-0: #fff5e6;\n",
              "  --sklearn-color-unfitted-level-1: #f6e4d2;\n",
              "  --sklearn-color-unfitted-level-2: #ffe0b3;\n",
              "  --sklearn-color-unfitted-level-3: chocolate;\n",
              "  /* Definition of color scheme for fitted estimators */\n",
              "  --sklearn-color-fitted-level-0: #f0f8ff;\n",
              "  --sklearn-color-fitted-level-1: #d4ebff;\n",
              "  --sklearn-color-fitted-level-2: #b3dbfd;\n",
              "  --sklearn-color-fitted-level-3: cornflowerblue;\n",
              "\n",
              "  /* Specific color for light theme */\n",
              "  --sklearn-color-text-on-default-background: var(--sg-text-color, var(--theme-code-foreground, var(--jp-content-font-color1, black)));\n",
              "  --sklearn-color-background: var(--sg-background-color, var(--theme-background, var(--jp-layout-color0, white)));\n",
              "  --sklearn-color-border-box: var(--sg-text-color, var(--theme-code-foreground, var(--jp-content-font-color1, black)));\n",
              "  --sklearn-color-icon: #696969;\n",
              "\n",
              "  @media (prefers-color-scheme: dark) {\n",
              "    /* Redefinition of color scheme for dark theme */\n",
              "    --sklearn-color-text-on-default-background: var(--sg-text-color, var(--theme-code-foreground, var(--jp-content-font-color1, white)));\n",
              "    --sklearn-color-background: var(--sg-background-color, var(--theme-background, var(--jp-layout-color0, #111)));\n",
              "    --sklearn-color-border-box: var(--sg-text-color, var(--theme-code-foreground, var(--jp-content-font-color1, white)));\n",
              "    --sklearn-color-icon: #878787;\n",
              "  }\n",
              "}\n",
              "\n",
              "#sk-container-id-1 {\n",
              "  color: var(--sklearn-color-text);\n",
              "}\n",
              "\n",
              "#sk-container-id-1 pre {\n",
              "  padding: 0;\n",
              "}\n",
              "\n",
              "#sk-container-id-1 input.sk-hidden--visually {\n",
              "  border: 0;\n",
              "  clip: rect(1px 1px 1px 1px);\n",
              "  clip: rect(1px, 1px, 1px, 1px);\n",
              "  height: 1px;\n",
              "  margin: -1px;\n",
              "  overflow: hidden;\n",
              "  padding: 0;\n",
              "  position: absolute;\n",
              "  width: 1px;\n",
              "}\n",
              "\n",
              "#sk-container-id-1 div.sk-dashed-wrapped {\n",
              "  border: 1px dashed var(--sklearn-color-line);\n",
              "  margin: 0 0.4em 0.5em 0.4em;\n",
              "  box-sizing: border-box;\n",
              "  padding-bottom: 0.4em;\n",
              "  background-color: var(--sklearn-color-background);\n",
              "}\n",
              "\n",
              "#sk-container-id-1 div.sk-container {\n",
              "  /* jupyter's `normalize.less` sets `[hidden] { display: none; }`\n",
              "     but bootstrap.min.css set `[hidden] { display: none !important; }`\n",
              "     so we also need the `!important` here to be able to override the\n",
              "     default hidden behavior on the sphinx rendered scikit-learn.org.\n",
              "     See: https://github.com/scikit-learn/scikit-learn/issues/21755 */\n",
              "  display: inline-block !important;\n",
              "  position: relative;\n",
              "}\n",
              "\n",
              "#sk-container-id-1 div.sk-text-repr-fallback {\n",
              "  display: none;\n",
              "}\n",
              "\n",
              "div.sk-parallel-item,\n",
              "div.sk-serial,\n",
              "div.sk-item {\n",
              "  /* draw centered vertical line to link estimators */\n",
              "  background-image: linear-gradient(var(--sklearn-color-text-on-default-background), var(--sklearn-color-text-on-default-background));\n",
              "  background-size: 2px 100%;\n",
              "  background-repeat: no-repeat;\n",
              "  background-position: center center;\n",
              "}\n",
              "\n",
              "/* Parallel-specific style estimator block */\n",
              "\n",
              "#sk-container-id-1 div.sk-parallel-item::after {\n",
              "  content: \"\";\n",
              "  width: 100%;\n",
              "  border-bottom: 2px solid var(--sklearn-color-text-on-default-background);\n",
              "  flex-grow: 1;\n",
              "}\n",
              "\n",
              "#sk-container-id-1 div.sk-parallel {\n",
              "  display: flex;\n",
              "  align-items: stretch;\n",
              "  justify-content: center;\n",
              "  background-color: var(--sklearn-color-background);\n",
              "  position: relative;\n",
              "}\n",
              "\n",
              "#sk-container-id-1 div.sk-parallel-item {\n",
              "  display: flex;\n",
              "  flex-direction: column;\n",
              "}\n",
              "\n",
              "#sk-container-id-1 div.sk-parallel-item:first-child::after {\n",
              "  align-self: flex-end;\n",
              "  width: 50%;\n",
              "}\n",
              "\n",
              "#sk-container-id-1 div.sk-parallel-item:last-child::after {\n",
              "  align-self: flex-start;\n",
              "  width: 50%;\n",
              "}\n",
              "\n",
              "#sk-container-id-1 div.sk-parallel-item:only-child::after {\n",
              "  width: 0;\n",
              "}\n",
              "\n",
              "/* Serial-specific style estimator block */\n",
              "\n",
              "#sk-container-id-1 div.sk-serial {\n",
              "  display: flex;\n",
              "  flex-direction: column;\n",
              "  align-items: center;\n",
              "  background-color: var(--sklearn-color-background);\n",
              "  padding-right: 1em;\n",
              "  padding-left: 1em;\n",
              "}\n",
              "\n",
              "\n",
              "/* Toggleable style: style used for estimator/Pipeline/ColumnTransformer box that is\n",
              "clickable and can be expanded/collapsed.\n",
              "- Pipeline and ColumnTransformer use this feature and define the default style\n",
              "- Estimators will overwrite some part of the style using the `sk-estimator` class\n",
              "*/\n",
              "\n",
              "/* Pipeline and ColumnTransformer style (default) */\n",
              "\n",
              "#sk-container-id-1 div.sk-toggleable {\n",
              "  /* Default theme specific background. It is overwritten whether we have a\n",
              "  specific estimator or a Pipeline/ColumnTransformer */\n",
              "  background-color: var(--sklearn-color-background);\n",
              "}\n",
              "\n",
              "/* Toggleable label */\n",
              "#sk-container-id-1 label.sk-toggleable__label {\n",
              "  cursor: pointer;\n",
              "  display: block;\n",
              "  width: 100%;\n",
              "  margin-bottom: 0;\n",
              "  padding: 0.5em;\n",
              "  box-sizing: border-box;\n",
              "  text-align: center;\n",
              "}\n",
              "\n",
              "#sk-container-id-1 label.sk-toggleable__label-arrow:before {\n",
              "  /* Arrow on the left of the label */\n",
              "  content: \"▸\";\n",
              "  float: left;\n",
              "  margin-right: 0.25em;\n",
              "  color: var(--sklearn-color-icon);\n",
              "}\n",
              "\n",
              "#sk-container-id-1 label.sk-toggleable__label-arrow:hover:before {\n",
              "  color: var(--sklearn-color-text);\n",
              "}\n",
              "\n",
              "/* Toggleable content - dropdown */\n",
              "\n",
              "#sk-container-id-1 div.sk-toggleable__content {\n",
              "  max-height: 0;\n",
              "  max-width: 0;\n",
              "  overflow: hidden;\n",
              "  text-align: left;\n",
              "  /* unfitted */\n",
              "  background-color: var(--sklearn-color-unfitted-level-0);\n",
              "}\n",
              "\n",
              "#sk-container-id-1 div.sk-toggleable__content.fitted {\n",
              "  /* fitted */\n",
              "  background-color: var(--sklearn-color-fitted-level-0);\n",
              "}\n",
              "\n",
              "#sk-container-id-1 div.sk-toggleable__content pre {\n",
              "  margin: 0.2em;\n",
              "  border-radius: 0.25em;\n",
              "  color: var(--sklearn-color-text);\n",
              "  /* unfitted */\n",
              "  background-color: var(--sklearn-color-unfitted-level-0);\n",
              "}\n",
              "\n",
              "#sk-container-id-1 div.sk-toggleable__content.fitted pre {\n",
              "  /* unfitted */\n",
              "  background-color: var(--sklearn-color-fitted-level-0);\n",
              "}\n",
              "\n",
              "#sk-container-id-1 input.sk-toggleable__control:checked~div.sk-toggleable__content {\n",
              "  /* Expand drop-down */\n",
              "  max-height: 200px;\n",
              "  max-width: 100%;\n",
              "  overflow: auto;\n",
              "}\n",
              "\n",
              "#sk-container-id-1 input.sk-toggleable__control:checked~label.sk-toggleable__label-arrow:before {\n",
              "  content: \"▾\";\n",
              "}\n",
              "\n",
              "/* Pipeline/ColumnTransformer-specific style */\n",
              "\n",
              "#sk-container-id-1 div.sk-label input.sk-toggleable__control:checked~label.sk-toggleable__label {\n",
              "  color: var(--sklearn-color-text);\n",
              "  background-color: var(--sklearn-color-unfitted-level-2);\n",
              "}\n",
              "\n",
              "#sk-container-id-1 div.sk-label.fitted input.sk-toggleable__control:checked~label.sk-toggleable__label {\n",
              "  background-color: var(--sklearn-color-fitted-level-2);\n",
              "}\n",
              "\n",
              "/* Estimator-specific style */\n",
              "\n",
              "/* Colorize estimator box */\n",
              "#sk-container-id-1 div.sk-estimator input.sk-toggleable__control:checked~label.sk-toggleable__label {\n",
              "  /* unfitted */\n",
              "  background-color: var(--sklearn-color-unfitted-level-2);\n",
              "}\n",
              "\n",
              "#sk-container-id-1 div.sk-estimator.fitted input.sk-toggleable__control:checked~label.sk-toggleable__label {\n",
              "  /* fitted */\n",
              "  background-color: var(--sklearn-color-fitted-level-2);\n",
              "}\n",
              "\n",
              "#sk-container-id-1 div.sk-label label.sk-toggleable__label,\n",
              "#sk-container-id-1 div.sk-label label {\n",
              "  /* The background is the default theme color */\n",
              "  color: var(--sklearn-color-text-on-default-background);\n",
              "}\n",
              "\n",
              "/* On hover, darken the color of the background */\n",
              "#sk-container-id-1 div.sk-label:hover label.sk-toggleable__label {\n",
              "  color: var(--sklearn-color-text);\n",
              "  background-color: var(--sklearn-color-unfitted-level-2);\n",
              "}\n",
              "\n",
              "/* Label box, darken color on hover, fitted */\n",
              "#sk-container-id-1 div.sk-label.fitted:hover label.sk-toggleable__label.fitted {\n",
              "  color: var(--sklearn-color-text);\n",
              "  background-color: var(--sklearn-color-fitted-level-2);\n",
              "}\n",
              "\n",
              "/* Estimator label */\n",
              "\n",
              "#sk-container-id-1 div.sk-label label {\n",
              "  font-family: monospace;\n",
              "  font-weight: bold;\n",
              "  display: inline-block;\n",
              "  line-height: 1.2em;\n",
              "}\n",
              "\n",
              "#sk-container-id-1 div.sk-label-container {\n",
              "  text-align: center;\n",
              "}\n",
              "\n",
              "/* Estimator-specific */\n",
              "#sk-container-id-1 div.sk-estimator {\n",
              "  font-family: monospace;\n",
              "  border: 1px dotted var(--sklearn-color-border-box);\n",
              "  border-radius: 0.25em;\n",
              "  box-sizing: border-box;\n",
              "  margin-bottom: 0.5em;\n",
              "  /* unfitted */\n",
              "  background-color: var(--sklearn-color-unfitted-level-0);\n",
              "}\n",
              "\n",
              "#sk-container-id-1 div.sk-estimator.fitted {\n",
              "  /* fitted */\n",
              "  background-color: var(--sklearn-color-fitted-level-0);\n",
              "}\n",
              "\n",
              "/* on hover */\n",
              "#sk-container-id-1 div.sk-estimator:hover {\n",
              "  /* unfitted */\n",
              "  background-color: var(--sklearn-color-unfitted-level-2);\n",
              "}\n",
              "\n",
              "#sk-container-id-1 div.sk-estimator.fitted:hover {\n",
              "  /* fitted */\n",
              "  background-color: var(--sklearn-color-fitted-level-2);\n",
              "}\n",
              "\n",
              "/* Specification for estimator info (e.g. \"i\" and \"?\") */\n",
              "\n",
              "/* Common style for \"i\" and \"?\" */\n",
              "\n",
              ".sk-estimator-doc-link,\n",
              "a:link.sk-estimator-doc-link,\n",
              "a:visited.sk-estimator-doc-link {\n",
              "  float: right;\n",
              "  font-size: smaller;\n",
              "  line-height: 1em;\n",
              "  font-family: monospace;\n",
              "  background-color: var(--sklearn-color-background);\n",
              "  border-radius: 1em;\n",
              "  height: 1em;\n",
              "  width: 1em;\n",
              "  text-decoration: none !important;\n",
              "  margin-left: 1ex;\n",
              "  /* unfitted */\n",
              "  border: var(--sklearn-color-unfitted-level-1) 1pt solid;\n",
              "  color: var(--sklearn-color-unfitted-level-1);\n",
              "}\n",
              "\n",
              ".sk-estimator-doc-link.fitted,\n",
              "a:link.sk-estimator-doc-link.fitted,\n",
              "a:visited.sk-estimator-doc-link.fitted {\n",
              "  /* fitted */\n",
              "  border: var(--sklearn-color-fitted-level-1) 1pt solid;\n",
              "  color: var(--sklearn-color-fitted-level-1);\n",
              "}\n",
              "\n",
              "/* On hover */\n",
              "div.sk-estimator:hover .sk-estimator-doc-link:hover,\n",
              ".sk-estimator-doc-link:hover,\n",
              "div.sk-label-container:hover .sk-estimator-doc-link:hover,\n",
              ".sk-estimator-doc-link:hover {\n",
              "  /* unfitted */\n",
              "  background-color: var(--sklearn-color-unfitted-level-3);\n",
              "  color: var(--sklearn-color-background);\n",
              "  text-decoration: none;\n",
              "}\n",
              "\n",
              "div.sk-estimator.fitted:hover .sk-estimator-doc-link.fitted:hover,\n",
              ".sk-estimator-doc-link.fitted:hover,\n",
              "div.sk-label-container:hover .sk-estimator-doc-link.fitted:hover,\n",
              ".sk-estimator-doc-link.fitted:hover {\n",
              "  /* fitted */\n",
              "  background-color: var(--sklearn-color-fitted-level-3);\n",
              "  color: var(--sklearn-color-background);\n",
              "  text-decoration: none;\n",
              "}\n",
              "\n",
              "/* Span, style for the box shown on hovering the info icon */\n",
              ".sk-estimator-doc-link span {\n",
              "  display: none;\n",
              "  z-index: 9999;\n",
              "  position: relative;\n",
              "  font-weight: normal;\n",
              "  right: .2ex;\n",
              "  padding: .5ex;\n",
              "  margin: .5ex;\n",
              "  width: min-content;\n",
              "  min-width: 20ex;\n",
              "  max-width: 50ex;\n",
              "  color: var(--sklearn-color-text);\n",
              "  box-shadow: 2pt 2pt 4pt #999;\n",
              "  /* unfitted */\n",
              "  background: var(--sklearn-color-unfitted-level-0);\n",
              "  border: .5pt solid var(--sklearn-color-unfitted-level-3);\n",
              "}\n",
              "\n",
              ".sk-estimator-doc-link.fitted span {\n",
              "  /* fitted */\n",
              "  background: var(--sklearn-color-fitted-level-0);\n",
              "  border: var(--sklearn-color-fitted-level-3);\n",
              "}\n",
              "\n",
              ".sk-estimator-doc-link:hover span {\n",
              "  display: block;\n",
              "}\n",
              "\n",
              "/* \"?\"-specific style due to the `<a>` HTML tag */\n",
              "\n",
              "#sk-container-id-1 a.estimator_doc_link {\n",
              "  float: right;\n",
              "  font-size: 1rem;\n",
              "  line-height: 1em;\n",
              "  font-family: monospace;\n",
              "  background-color: var(--sklearn-color-background);\n",
              "  border-radius: 1rem;\n",
              "  height: 1rem;\n",
              "  width: 1rem;\n",
              "  text-decoration: none;\n",
              "  /* unfitted */\n",
              "  color: var(--sklearn-color-unfitted-level-1);\n",
              "  border: var(--sklearn-color-unfitted-level-1) 1pt solid;\n",
              "}\n",
              "\n",
              "#sk-container-id-1 a.estimator_doc_link.fitted {\n",
              "  /* fitted */\n",
              "  border: var(--sklearn-color-fitted-level-1) 1pt solid;\n",
              "  color: var(--sklearn-color-fitted-level-1);\n",
              "}\n",
              "\n",
              "/* On hover */\n",
              "#sk-container-id-1 a.estimator_doc_link:hover {\n",
              "  /* unfitted */\n",
              "  background-color: var(--sklearn-color-unfitted-level-3);\n",
              "  color: var(--sklearn-color-background);\n",
              "  text-decoration: none;\n",
              "}\n",
              "\n",
              "#sk-container-id-1 a.estimator_doc_link.fitted:hover {\n",
              "  /* fitted */\n",
              "  background-color: var(--sklearn-color-fitted-level-3);\n",
              "}\n",
              "</style><div id=\"sk-container-id-1\" class=\"sk-top-container\"><div class=\"sk-text-repr-fallback\"><pre>RandomizedSearchCV(cv=3, estimator=MLPClassifier(random_state=42), n_iter=20,\n",
              "                   n_jobs=-1,\n",
              "                   param_distributions={&#x27;activation&#x27;: [&#x27;tanh&#x27;, &#x27;relu&#x27;],\n",
              "                                        &#x27;alpha&#x27;: &lt;scipy.stats._distn_infrastructure.rv_continuous_frozen object at 0x78870c50f550&gt;,\n",
              "                                        &#x27;hidden_layer_sizes&#x27;: [(64,), (128,),\n",
              "                                                               (64, 64),\n",
              "                                                               (128, 64),\n",
              "                                                               (128, 128),\n",
              "                                                               (128, 128, 128)],\n",
              "                                        &#x27;learning_rate_init&#x27;: &lt;scipy.stats._distn_infrastructure.rv_continuous_frozen object at 0x7887dca04b50&gt;,\n",
              "                                        &#x27;max_iter&#x27;: [500, 1000],\n",
              "                                        &#x27;solver&#x27;: [&#x27;adam&#x27;, &#x27;sgd&#x27;]},\n",
              "                   random_state=42, scoring=&#x27;accuracy&#x27;, verbose=2)</pre><b>In a Jupyter environment, please rerun this cell to show the HTML representation or trust the notebook. <br />On GitHub, the HTML representation is unable to render, please try loading this page with nbviewer.org.</b></div><div class=\"sk-container\" hidden><div class=\"sk-item sk-dashed-wrapped\"><div class=\"sk-label-container\"><div class=\"sk-label fitted sk-toggleable\"><input class=\"sk-toggleable__control sk-hidden--visually\" id=\"sk-estimator-id-1\" type=\"checkbox\" ><label for=\"sk-estimator-id-1\" class=\"sk-toggleable__label fitted sk-toggleable__label-arrow fitted\">&nbsp;&nbsp;RandomizedSearchCV<a class=\"sk-estimator-doc-link fitted\" rel=\"noreferrer\" target=\"_blank\" href=\"https://scikit-learn.org/1.5/modules/generated/sklearn.model_selection.RandomizedSearchCV.html\">?<span>Documentation for RandomizedSearchCV</span></a><span class=\"sk-estimator-doc-link fitted\">i<span>Fitted</span></span></label><div class=\"sk-toggleable__content fitted\"><pre>RandomizedSearchCV(cv=3, estimator=MLPClassifier(random_state=42), n_iter=20,\n",
              "                   n_jobs=-1,\n",
              "                   param_distributions={&#x27;activation&#x27;: [&#x27;tanh&#x27;, &#x27;relu&#x27;],\n",
              "                                        &#x27;alpha&#x27;: &lt;scipy.stats._distn_infrastructure.rv_continuous_frozen object at 0x78870c50f550&gt;,\n",
              "                                        &#x27;hidden_layer_sizes&#x27;: [(64,), (128,),\n",
              "                                                               (64, 64),\n",
              "                                                               (128, 64),\n",
              "                                                               (128, 128),\n",
              "                                                               (128, 128, 128)],\n",
              "                                        &#x27;learning_rate_init&#x27;: &lt;scipy.stats._distn_infrastructure.rv_continuous_frozen object at 0x7887dca04b50&gt;,\n",
              "                                        &#x27;max_iter&#x27;: [500, 1000],\n",
              "                                        &#x27;solver&#x27;: [&#x27;adam&#x27;, &#x27;sgd&#x27;]},\n",
              "                   random_state=42, scoring=&#x27;accuracy&#x27;, verbose=2)</pre></div> </div></div><div class=\"sk-parallel\"><div class=\"sk-parallel-item\"><div class=\"sk-item\"><div class=\"sk-label-container\"><div class=\"sk-label fitted sk-toggleable\"><input class=\"sk-toggleable__control sk-hidden--visually\" id=\"sk-estimator-id-2\" type=\"checkbox\" ><label for=\"sk-estimator-id-2\" class=\"sk-toggleable__label fitted sk-toggleable__label-arrow fitted\">best_estimator_: MLPClassifier</label><div class=\"sk-toggleable__content fitted\"><pre>MLPClassifier(activation=&#x27;tanh&#x27;, alpha=0.008699404067363204,\n",
              "              hidden_layer_sizes=(128, 128),\n",
              "              learning_rate_init=0.00550499251969543, max_iter=1000,\n",
              "              random_state=42, solver=&#x27;sgd&#x27;)</pre></div> </div></div><div class=\"sk-serial\"><div class=\"sk-item\"><div class=\"sk-estimator fitted sk-toggleable\"><input class=\"sk-toggleable__control sk-hidden--visually\" id=\"sk-estimator-id-3\" type=\"checkbox\" ><label for=\"sk-estimator-id-3\" class=\"sk-toggleable__label fitted sk-toggleable__label-arrow fitted\">&nbsp;MLPClassifier<a class=\"sk-estimator-doc-link fitted\" rel=\"noreferrer\" target=\"_blank\" href=\"https://scikit-learn.org/1.5/modules/generated/sklearn.neural_network.MLPClassifier.html\">?<span>Documentation for MLPClassifier</span></a></label><div class=\"sk-toggleable__content fitted\"><pre>MLPClassifier(activation=&#x27;tanh&#x27;, alpha=0.008699404067363204,\n",
              "              hidden_layer_sizes=(128, 128),\n",
              "              learning_rate_init=0.00550499251969543, max_iter=1000,\n",
              "              random_state=42, solver=&#x27;sgd&#x27;)</pre></div> </div></div></div></div></div></div></div></div></div>"
            ]
          },
          "metadata": {},
          "execution_count": 35
        }
      ]
    },
    {
      "cell_type": "markdown",
      "source": [
        "Yapılan hiperparametre optimizasyonu sonucunda MLP Modeli test doğruluğu %97.8 çıkmıştır\n",
        "\n",
        "En iyi parametreler:\n",
        "\n",
        "```\n",
        "'activation': 'tanh',\n",
        "'alpha': 0.008699404067363204,\n",
        "'hidden_layer_sizes': (128, 128),\n",
        "'learning_rate_init': 0.00550499251969543,\n",
        "'max_iter': 1000,\n",
        "'solver': 'sgd'\n",
        "```\n"
      ],
      "metadata": {
        "id": "mPwHLgFDQGxZ"
      }
    },
    {
      "cell_type": "code",
      "source": [
        "# En iyi parametreler ve test sonucu\n",
        "\n",
        "print(\"En iyi parametreler:\", search_mlp.best_params_)\n",
        "\n",
        "mlp_best_model = search_mlp.best_estimator_\n",
        "\n",
        "y_pred_mlp = mlp_best_model.predict(X_test_flat)\n",
        "mlp_accuracy = accuracy_score(y_test, y_pred_mlp)\n",
        "print(\"MLP Model Test Doğruluğu:\", mlp_accuracy)"
      ],
      "metadata": {
        "id": "kEIdU7bjzk0A",
        "colab": {
          "base_uri": "https://localhost:8080/"
        },
        "outputId": "6f5ebcd8-c3ea-4f4b-8aad-c48e26899c07"
      },
      "execution_count": null,
      "outputs": [
        {
          "output_type": "stream",
          "name": "stdout",
          "text": [
            "En iyi parametreler: {'activation': 'tanh', 'alpha': 0.008699404067363204, 'hidden_layer_sizes': (128, 128), 'learning_rate_init': 0.00550499251969543, 'max_iter': 1000, 'solver': 'sgd'}\n",
            "MLP Model Test Doğruluğu: 0.9780405405405406\n"
          ]
        }
      ]
    },
    {
      "cell_type": "markdown",
      "source": [
        "#### MLP Classification Report"
      ],
      "metadata": {
        "id": "cGIakwQKQh_u"
      }
    },
    {
      "cell_type": "code",
      "source": [
        "print(\"MLP Classification Report:\")\n",
        "print(classification_report(y_test, y_pred_mlp))"
      ],
      "metadata": {
        "id": "k9ioKnKrzkxK",
        "colab": {
          "base_uri": "https://localhost:8080/"
        },
        "outputId": "a933aa10-2fa7-4177-923c-6bf6403f7302"
      },
      "execution_count": null,
      "outputs": [
        {
          "output_type": "stream",
          "name": "stdout",
          "text": [
            "MLP Classification Report:\n",
            "              precision    recall  f1-score   support\n",
            "\n",
            "           0       1.00      0.97      0.98        30\n",
            "           1       0.96      0.97      0.97       300\n",
            "           2       0.97      0.97      0.97       300\n",
            "           3       0.95      0.96      0.96       192\n",
            "           4       1.00      0.97      0.98       264\n",
            "           5       0.94      0.96      0.95       252\n",
            "           6       1.00      1.00      1.00        60\n",
            "           7       0.98      0.99      0.99       192\n",
            "           8       0.96      0.98      0.97       192\n",
            "           9       0.99      0.99      0.99       198\n",
            "          10       1.00      0.98      0.99       270\n",
            "          11       0.99      0.98      0.99       180\n",
            "          12       0.99      1.00      0.99       282\n",
            "          13       0.98      0.98      0.98       288\n",
            "          14       1.00      1.00      1.00       108\n",
            "          15       0.94      0.95      0.95        84\n",
            "          16       1.00      1.00      1.00        60\n",
            "          17       0.97      0.97      0.97       150\n",
            "          18       0.94      0.98      0.96       162\n",
            "          19       1.00      0.97      0.98        30\n",
            "          20       0.93      0.83      0.88        48\n",
            "          21       0.98      0.98      0.98        48\n",
            "          22       0.96      0.96      0.96        54\n",
            "          23       0.99      0.99      0.99        72\n",
            "          24       0.95      0.97      0.96        36\n",
            "          25       0.97      0.97      0.97       204\n",
            "          26       0.98      0.95      0.96        84\n",
            "          27       1.00      0.94      0.97        36\n",
            "          28       0.97      0.99      0.98        72\n",
            "          29       0.97      0.92      0.94        36\n",
            "          30       0.97      0.98      0.98        60\n",
            "          31       0.98      0.98      0.98       108\n",
            "          32       1.00      0.97      0.99        36\n",
            "          33       1.00      0.99      0.99        96\n",
            "          34       1.00      1.00      1.00        60\n",
            "          35       1.00      1.00      1.00       162\n",
            "          36       0.98      1.00      0.99        54\n",
            "          37       1.00      1.00      1.00        30\n",
            "          38       1.00      0.99      0.99       276\n",
            "          39       1.00      1.00      1.00        42\n",
            "          40       1.00      0.96      0.98        48\n",
            "          41       1.00      1.00      1.00        36\n",
            "          42       0.97      1.00      0.99        36\n",
            "\n",
            "    accuracy                           0.98      5328\n",
            "   macro avg       0.98      0.98      0.98      5328\n",
            "weighted avg       0.98      0.98      0.98      5328\n",
            "\n"
          ]
        }
      ]
    },
    {
      "cell_type": "markdown",
      "source": [
        "### RBF"
      ],
      "metadata": {
        "id": "0q-GfII3Qr1H"
      }
    },
    {
      "cell_type": "code",
      "source": [
        "# RBF aktivasyon fonksiyonu\n",
        "def rbf_activation(x, gamma=1.0):\n",
        "    return K.exp(-gamma * K.square(x))\n",
        "\n",
        "# RBF sınıfı\n",
        "class RBFClassifier(BaseEstimator, ClassifierMixin):\n",
        "    def __init__(self, hidden_neurons=100, learning_rate=0.001, gamma=1.0, epochs=20, batch_size=32):\n",
        "        self.hidden_neurons = hidden_neurons\n",
        "        self.learning_rate = learning_rate\n",
        "        self.gamma = gamma\n",
        "        self.epochs = epochs\n",
        "        self.batch_size = batch_size\n",
        "        self.model = None\n",
        "\n",
        "    def fit(self, X, y):\n",
        "        # Modeli oluştur\n",
        "        self.model = Sequential()\n",
        "        self.model.add(Dense(self.hidden_neurons, input_dim=X.shape[1], activation=lambda x: rbf_activation(x, self.gamma)))\n",
        "        self.model.add(Dense(len(np.unique(y)), activation='softmax'))\n",
        "        optimizer = Adam(learning_rate=self.learning_rate)\n",
        "        self.model.compile(optimizer=optimizer, loss='sparse_categorical_crossentropy', metrics=['accuracy'])\n",
        "\n",
        "        # Modeli eğit\n",
        "        self.model.fit(X, y, batch_size=self.batch_size, epochs=self.epochs, verbose=0)\n",
        "        return self\n",
        "\n",
        "    def predict(self, X):\n",
        "        return np.argmax(self.model.predict(X), axis=1)\n",
        "\n",
        "# Hiperparametre aralıkları\n",
        "param_dist = {\n",
        "    'hidden_neurons': [50, 100, 150, 200],  # Gizli katmandaki nöron sayısı\n",
        "    'learning_rate': [0.0001, 0.001, 0.01],  # Öğrenme oranı\n",
        "    'gamma': [0.5, 1.0, 2.0],  # RBF gama parametresi\n",
        "    'epochs': [10, 20, 30],  # Epoch sayısı\n",
        "    'batch_size': [16, 32, 64]  # Mini-batch boyutu\n",
        "}\n",
        "\n",
        "# RandomizedSearchCV ile optimizasyon\n",
        "rbf_clf = RBFClassifier()  # RBFClassifier örneği oluşturuluyor\n",
        "random_search = RandomizedSearchCV(\n",
        "    estimator=rbf_clf,\n",
        "    param_distributions=param_dist,\n",
        "    n_iter=20,  # Hiperparametre kombinasyonlarından test edilecek sayı\n",
        "    scoring='accuracy',\n",
        "    cv=3,  # 3 katlı çapraz doğrulama\n",
        "    verbose=2,\n",
        "    random_state=42,\n",
        "    n_jobs=-1  # Paralel çalışma\n",
        ")\n",
        "\n",
        "# Modeli eğit\n",
        "random_search.fit(X_train_flat, y_train)\n"
      ],
      "metadata": {
        "colab": {
          "base_uri": "https://localhost:8080/",
          "height": 153
        },
        "id": "KWos-s_u_vsa",
        "outputId": "4c0542e0-b238-4366-dbb0-de0a1ba0ee4b"
      },
      "execution_count": null,
      "outputs": [
        {
          "output_type": "stream",
          "name": "stdout",
          "text": [
            "Fitting 3 folds for each of 20 candidates, totalling 60 fits\n"
          ]
        },
        {
          "output_type": "execute_result",
          "data": {
            "text/plain": [
              "RandomizedSearchCV(cv=3, estimator=RBFClassifier(), n_iter=20, n_jobs=-1,\n",
              "                   param_distributions={'batch_size': [16, 32, 64],\n",
              "                                        'epochs': [10, 20, 30],\n",
              "                                        'gamma': [0.5, 1.0, 2.0],\n",
              "                                        'hidden_neurons': [50, 100, 150, 200],\n",
              "                                        'learning_rate': [0.0001, 0.001, 0.01]},\n",
              "                   random_state=42, scoring='accuracy', verbose=2)"
            ],
            "text/html": [
              "<style>#sk-container-id-3 {\n",
              "  /* Definition of color scheme common for light and dark mode */\n",
              "  --sklearn-color-text: black;\n",
              "  --sklearn-color-line: gray;\n",
              "  /* Definition of color scheme for unfitted estimators */\n",
              "  --sklearn-color-unfitted-level-0: #fff5e6;\n",
              "  --sklearn-color-unfitted-level-1: #f6e4d2;\n",
              "  --sklearn-color-unfitted-level-2: #ffe0b3;\n",
              "  --sklearn-color-unfitted-level-3: chocolate;\n",
              "  /* Definition of color scheme for fitted estimators */\n",
              "  --sklearn-color-fitted-level-0: #f0f8ff;\n",
              "  --sklearn-color-fitted-level-1: #d4ebff;\n",
              "  --sklearn-color-fitted-level-2: #b3dbfd;\n",
              "  --sklearn-color-fitted-level-3: cornflowerblue;\n",
              "\n",
              "  /* Specific color for light theme */\n",
              "  --sklearn-color-text-on-default-background: var(--sg-text-color, var(--theme-code-foreground, var(--jp-content-font-color1, black)));\n",
              "  --sklearn-color-background: var(--sg-background-color, var(--theme-background, var(--jp-layout-color0, white)));\n",
              "  --sklearn-color-border-box: var(--sg-text-color, var(--theme-code-foreground, var(--jp-content-font-color1, black)));\n",
              "  --sklearn-color-icon: #696969;\n",
              "\n",
              "  @media (prefers-color-scheme: dark) {\n",
              "    /* Redefinition of color scheme for dark theme */\n",
              "    --sklearn-color-text-on-default-background: var(--sg-text-color, var(--theme-code-foreground, var(--jp-content-font-color1, white)));\n",
              "    --sklearn-color-background: var(--sg-background-color, var(--theme-background, var(--jp-layout-color0, #111)));\n",
              "    --sklearn-color-border-box: var(--sg-text-color, var(--theme-code-foreground, var(--jp-content-font-color1, white)));\n",
              "    --sklearn-color-icon: #878787;\n",
              "  }\n",
              "}\n",
              "\n",
              "#sk-container-id-3 {\n",
              "  color: var(--sklearn-color-text);\n",
              "}\n",
              "\n",
              "#sk-container-id-3 pre {\n",
              "  padding: 0;\n",
              "}\n",
              "\n",
              "#sk-container-id-3 input.sk-hidden--visually {\n",
              "  border: 0;\n",
              "  clip: rect(1px 1px 1px 1px);\n",
              "  clip: rect(1px, 1px, 1px, 1px);\n",
              "  height: 1px;\n",
              "  margin: -1px;\n",
              "  overflow: hidden;\n",
              "  padding: 0;\n",
              "  position: absolute;\n",
              "  width: 1px;\n",
              "}\n",
              "\n",
              "#sk-container-id-3 div.sk-dashed-wrapped {\n",
              "  border: 1px dashed var(--sklearn-color-line);\n",
              "  margin: 0 0.4em 0.5em 0.4em;\n",
              "  box-sizing: border-box;\n",
              "  padding-bottom: 0.4em;\n",
              "  background-color: var(--sklearn-color-background);\n",
              "}\n",
              "\n",
              "#sk-container-id-3 div.sk-container {\n",
              "  /* jupyter's `normalize.less` sets `[hidden] { display: none; }`\n",
              "     but bootstrap.min.css set `[hidden] { display: none !important; }`\n",
              "     so we also need the `!important` here to be able to override the\n",
              "     default hidden behavior on the sphinx rendered scikit-learn.org.\n",
              "     See: https://github.com/scikit-learn/scikit-learn/issues/21755 */\n",
              "  display: inline-block !important;\n",
              "  position: relative;\n",
              "}\n",
              "\n",
              "#sk-container-id-3 div.sk-text-repr-fallback {\n",
              "  display: none;\n",
              "}\n",
              "\n",
              "div.sk-parallel-item,\n",
              "div.sk-serial,\n",
              "div.sk-item {\n",
              "  /* draw centered vertical line to link estimators */\n",
              "  background-image: linear-gradient(var(--sklearn-color-text-on-default-background), var(--sklearn-color-text-on-default-background));\n",
              "  background-size: 2px 100%;\n",
              "  background-repeat: no-repeat;\n",
              "  background-position: center center;\n",
              "}\n",
              "\n",
              "/* Parallel-specific style estimator block */\n",
              "\n",
              "#sk-container-id-3 div.sk-parallel-item::after {\n",
              "  content: \"\";\n",
              "  width: 100%;\n",
              "  border-bottom: 2px solid var(--sklearn-color-text-on-default-background);\n",
              "  flex-grow: 1;\n",
              "}\n",
              "\n",
              "#sk-container-id-3 div.sk-parallel {\n",
              "  display: flex;\n",
              "  align-items: stretch;\n",
              "  justify-content: center;\n",
              "  background-color: var(--sklearn-color-background);\n",
              "  position: relative;\n",
              "}\n",
              "\n",
              "#sk-container-id-3 div.sk-parallel-item {\n",
              "  display: flex;\n",
              "  flex-direction: column;\n",
              "}\n",
              "\n",
              "#sk-container-id-3 div.sk-parallel-item:first-child::after {\n",
              "  align-self: flex-end;\n",
              "  width: 50%;\n",
              "}\n",
              "\n",
              "#sk-container-id-3 div.sk-parallel-item:last-child::after {\n",
              "  align-self: flex-start;\n",
              "  width: 50%;\n",
              "}\n",
              "\n",
              "#sk-container-id-3 div.sk-parallel-item:only-child::after {\n",
              "  width: 0;\n",
              "}\n",
              "\n",
              "/* Serial-specific style estimator block */\n",
              "\n",
              "#sk-container-id-3 div.sk-serial {\n",
              "  display: flex;\n",
              "  flex-direction: column;\n",
              "  align-items: center;\n",
              "  background-color: var(--sklearn-color-background);\n",
              "  padding-right: 1em;\n",
              "  padding-left: 1em;\n",
              "}\n",
              "\n",
              "\n",
              "/* Toggleable style: style used for estimator/Pipeline/ColumnTransformer box that is\n",
              "clickable and can be expanded/collapsed.\n",
              "- Pipeline and ColumnTransformer use this feature and define the default style\n",
              "- Estimators will overwrite some part of the style using the `sk-estimator` class\n",
              "*/\n",
              "\n",
              "/* Pipeline and ColumnTransformer style (default) */\n",
              "\n",
              "#sk-container-id-3 div.sk-toggleable {\n",
              "  /* Default theme specific background. It is overwritten whether we have a\n",
              "  specific estimator or a Pipeline/ColumnTransformer */\n",
              "  background-color: var(--sklearn-color-background);\n",
              "}\n",
              "\n",
              "/* Toggleable label */\n",
              "#sk-container-id-3 label.sk-toggleable__label {\n",
              "  cursor: pointer;\n",
              "  display: block;\n",
              "  width: 100%;\n",
              "  margin-bottom: 0;\n",
              "  padding: 0.5em;\n",
              "  box-sizing: border-box;\n",
              "  text-align: center;\n",
              "}\n",
              "\n",
              "#sk-container-id-3 label.sk-toggleable__label-arrow:before {\n",
              "  /* Arrow on the left of the label */\n",
              "  content: \"▸\";\n",
              "  float: left;\n",
              "  margin-right: 0.25em;\n",
              "  color: var(--sklearn-color-icon);\n",
              "}\n",
              "\n",
              "#sk-container-id-3 label.sk-toggleable__label-arrow:hover:before {\n",
              "  color: var(--sklearn-color-text);\n",
              "}\n",
              "\n",
              "/* Toggleable content - dropdown */\n",
              "\n",
              "#sk-container-id-3 div.sk-toggleable__content {\n",
              "  max-height: 0;\n",
              "  max-width: 0;\n",
              "  overflow: hidden;\n",
              "  text-align: left;\n",
              "  /* unfitted */\n",
              "  background-color: var(--sklearn-color-unfitted-level-0);\n",
              "}\n",
              "\n",
              "#sk-container-id-3 div.sk-toggleable__content.fitted {\n",
              "  /* fitted */\n",
              "  background-color: var(--sklearn-color-fitted-level-0);\n",
              "}\n",
              "\n",
              "#sk-container-id-3 div.sk-toggleable__content pre {\n",
              "  margin: 0.2em;\n",
              "  border-radius: 0.25em;\n",
              "  color: var(--sklearn-color-text);\n",
              "  /* unfitted */\n",
              "  background-color: var(--sklearn-color-unfitted-level-0);\n",
              "}\n",
              "\n",
              "#sk-container-id-3 div.sk-toggleable__content.fitted pre {\n",
              "  /* unfitted */\n",
              "  background-color: var(--sklearn-color-fitted-level-0);\n",
              "}\n",
              "\n",
              "#sk-container-id-3 input.sk-toggleable__control:checked~div.sk-toggleable__content {\n",
              "  /* Expand drop-down */\n",
              "  max-height: 200px;\n",
              "  max-width: 100%;\n",
              "  overflow: auto;\n",
              "}\n",
              "\n",
              "#sk-container-id-3 input.sk-toggleable__control:checked~label.sk-toggleable__label-arrow:before {\n",
              "  content: \"▾\";\n",
              "}\n",
              "\n",
              "/* Pipeline/ColumnTransformer-specific style */\n",
              "\n",
              "#sk-container-id-3 div.sk-label input.sk-toggleable__control:checked~label.sk-toggleable__label {\n",
              "  color: var(--sklearn-color-text);\n",
              "  background-color: var(--sklearn-color-unfitted-level-2);\n",
              "}\n",
              "\n",
              "#sk-container-id-3 div.sk-label.fitted input.sk-toggleable__control:checked~label.sk-toggleable__label {\n",
              "  background-color: var(--sklearn-color-fitted-level-2);\n",
              "}\n",
              "\n",
              "/* Estimator-specific style */\n",
              "\n",
              "/* Colorize estimator box */\n",
              "#sk-container-id-3 div.sk-estimator input.sk-toggleable__control:checked~label.sk-toggleable__label {\n",
              "  /* unfitted */\n",
              "  background-color: var(--sklearn-color-unfitted-level-2);\n",
              "}\n",
              "\n",
              "#sk-container-id-3 div.sk-estimator.fitted input.sk-toggleable__control:checked~label.sk-toggleable__label {\n",
              "  /* fitted */\n",
              "  background-color: var(--sklearn-color-fitted-level-2);\n",
              "}\n",
              "\n",
              "#sk-container-id-3 div.sk-label label.sk-toggleable__label,\n",
              "#sk-container-id-3 div.sk-label label {\n",
              "  /* The background is the default theme color */\n",
              "  color: var(--sklearn-color-text-on-default-background);\n",
              "}\n",
              "\n",
              "/* On hover, darken the color of the background */\n",
              "#sk-container-id-3 div.sk-label:hover label.sk-toggleable__label {\n",
              "  color: var(--sklearn-color-text);\n",
              "  background-color: var(--sklearn-color-unfitted-level-2);\n",
              "}\n",
              "\n",
              "/* Label box, darken color on hover, fitted */\n",
              "#sk-container-id-3 div.sk-label.fitted:hover label.sk-toggleable__label.fitted {\n",
              "  color: var(--sklearn-color-text);\n",
              "  background-color: var(--sklearn-color-fitted-level-2);\n",
              "}\n",
              "\n",
              "/* Estimator label */\n",
              "\n",
              "#sk-container-id-3 div.sk-label label {\n",
              "  font-family: monospace;\n",
              "  font-weight: bold;\n",
              "  display: inline-block;\n",
              "  line-height: 1.2em;\n",
              "}\n",
              "\n",
              "#sk-container-id-3 div.sk-label-container {\n",
              "  text-align: center;\n",
              "}\n",
              "\n",
              "/* Estimator-specific */\n",
              "#sk-container-id-3 div.sk-estimator {\n",
              "  font-family: monospace;\n",
              "  border: 1px dotted var(--sklearn-color-border-box);\n",
              "  border-radius: 0.25em;\n",
              "  box-sizing: border-box;\n",
              "  margin-bottom: 0.5em;\n",
              "  /* unfitted */\n",
              "  background-color: var(--sklearn-color-unfitted-level-0);\n",
              "}\n",
              "\n",
              "#sk-container-id-3 div.sk-estimator.fitted {\n",
              "  /* fitted */\n",
              "  background-color: var(--sklearn-color-fitted-level-0);\n",
              "}\n",
              "\n",
              "/* on hover */\n",
              "#sk-container-id-3 div.sk-estimator:hover {\n",
              "  /* unfitted */\n",
              "  background-color: var(--sklearn-color-unfitted-level-2);\n",
              "}\n",
              "\n",
              "#sk-container-id-3 div.sk-estimator.fitted:hover {\n",
              "  /* fitted */\n",
              "  background-color: var(--sklearn-color-fitted-level-2);\n",
              "}\n",
              "\n",
              "/* Specification for estimator info (e.g. \"i\" and \"?\") */\n",
              "\n",
              "/* Common style for \"i\" and \"?\" */\n",
              "\n",
              ".sk-estimator-doc-link,\n",
              "a:link.sk-estimator-doc-link,\n",
              "a:visited.sk-estimator-doc-link {\n",
              "  float: right;\n",
              "  font-size: smaller;\n",
              "  line-height: 1em;\n",
              "  font-family: monospace;\n",
              "  background-color: var(--sklearn-color-background);\n",
              "  border-radius: 1em;\n",
              "  height: 1em;\n",
              "  width: 1em;\n",
              "  text-decoration: none !important;\n",
              "  margin-left: 1ex;\n",
              "  /* unfitted */\n",
              "  border: var(--sklearn-color-unfitted-level-1) 1pt solid;\n",
              "  color: var(--sklearn-color-unfitted-level-1);\n",
              "}\n",
              "\n",
              ".sk-estimator-doc-link.fitted,\n",
              "a:link.sk-estimator-doc-link.fitted,\n",
              "a:visited.sk-estimator-doc-link.fitted {\n",
              "  /* fitted */\n",
              "  border: var(--sklearn-color-fitted-level-1) 1pt solid;\n",
              "  color: var(--sklearn-color-fitted-level-1);\n",
              "}\n",
              "\n",
              "/* On hover */\n",
              "div.sk-estimator:hover .sk-estimator-doc-link:hover,\n",
              ".sk-estimator-doc-link:hover,\n",
              "div.sk-label-container:hover .sk-estimator-doc-link:hover,\n",
              ".sk-estimator-doc-link:hover {\n",
              "  /* unfitted */\n",
              "  background-color: var(--sklearn-color-unfitted-level-3);\n",
              "  color: var(--sklearn-color-background);\n",
              "  text-decoration: none;\n",
              "}\n",
              "\n",
              "div.sk-estimator.fitted:hover .sk-estimator-doc-link.fitted:hover,\n",
              ".sk-estimator-doc-link.fitted:hover,\n",
              "div.sk-label-container:hover .sk-estimator-doc-link.fitted:hover,\n",
              ".sk-estimator-doc-link.fitted:hover {\n",
              "  /* fitted */\n",
              "  background-color: var(--sklearn-color-fitted-level-3);\n",
              "  color: var(--sklearn-color-background);\n",
              "  text-decoration: none;\n",
              "}\n",
              "\n",
              "/* Span, style for the box shown on hovering the info icon */\n",
              ".sk-estimator-doc-link span {\n",
              "  display: none;\n",
              "  z-index: 9999;\n",
              "  position: relative;\n",
              "  font-weight: normal;\n",
              "  right: .2ex;\n",
              "  padding: .5ex;\n",
              "  margin: .5ex;\n",
              "  width: min-content;\n",
              "  min-width: 20ex;\n",
              "  max-width: 50ex;\n",
              "  color: var(--sklearn-color-text);\n",
              "  box-shadow: 2pt 2pt 4pt #999;\n",
              "  /* unfitted */\n",
              "  background: var(--sklearn-color-unfitted-level-0);\n",
              "  border: .5pt solid var(--sklearn-color-unfitted-level-3);\n",
              "}\n",
              "\n",
              ".sk-estimator-doc-link.fitted span {\n",
              "  /* fitted */\n",
              "  background: var(--sklearn-color-fitted-level-0);\n",
              "  border: var(--sklearn-color-fitted-level-3);\n",
              "}\n",
              "\n",
              ".sk-estimator-doc-link:hover span {\n",
              "  display: block;\n",
              "}\n",
              "\n",
              "/* \"?\"-specific style due to the `<a>` HTML tag */\n",
              "\n",
              "#sk-container-id-3 a.estimator_doc_link {\n",
              "  float: right;\n",
              "  font-size: 1rem;\n",
              "  line-height: 1em;\n",
              "  font-family: monospace;\n",
              "  background-color: var(--sklearn-color-background);\n",
              "  border-radius: 1rem;\n",
              "  height: 1rem;\n",
              "  width: 1rem;\n",
              "  text-decoration: none;\n",
              "  /* unfitted */\n",
              "  color: var(--sklearn-color-unfitted-level-1);\n",
              "  border: var(--sklearn-color-unfitted-level-1) 1pt solid;\n",
              "}\n",
              "\n",
              "#sk-container-id-3 a.estimator_doc_link.fitted {\n",
              "  /* fitted */\n",
              "  border: var(--sklearn-color-fitted-level-1) 1pt solid;\n",
              "  color: var(--sklearn-color-fitted-level-1);\n",
              "}\n",
              "\n",
              "/* On hover */\n",
              "#sk-container-id-3 a.estimator_doc_link:hover {\n",
              "  /* unfitted */\n",
              "  background-color: var(--sklearn-color-unfitted-level-3);\n",
              "  color: var(--sklearn-color-background);\n",
              "  text-decoration: none;\n",
              "}\n",
              "\n",
              "#sk-container-id-3 a.estimator_doc_link.fitted:hover {\n",
              "  /* fitted */\n",
              "  background-color: var(--sklearn-color-fitted-level-3);\n",
              "}\n",
              "</style><div id=\"sk-container-id-3\" class=\"sk-top-container\"><div class=\"sk-text-repr-fallback\"><pre>RandomizedSearchCV(cv=3, estimator=RBFClassifier(), n_iter=20, n_jobs=-1,\n",
              "                   param_distributions={&#x27;batch_size&#x27;: [16, 32, 64],\n",
              "                                        &#x27;epochs&#x27;: [10, 20, 30],\n",
              "                                        &#x27;gamma&#x27;: [0.5, 1.0, 2.0],\n",
              "                                        &#x27;hidden_neurons&#x27;: [50, 100, 150, 200],\n",
              "                                        &#x27;learning_rate&#x27;: [0.0001, 0.001, 0.01]},\n",
              "                   random_state=42, scoring=&#x27;accuracy&#x27;, verbose=2)</pre><b>In a Jupyter environment, please rerun this cell to show the HTML representation or trust the notebook. <br />On GitHub, the HTML representation is unable to render, please try loading this page with nbviewer.org.</b></div><div class=\"sk-container\" hidden><div class=\"sk-item sk-dashed-wrapped\"><div class=\"sk-label-container\"><div class=\"sk-label fitted sk-toggleable\"><input class=\"sk-toggleable__control sk-hidden--visually\" id=\"sk-estimator-id-7\" type=\"checkbox\" ><label for=\"sk-estimator-id-7\" class=\"sk-toggleable__label fitted sk-toggleable__label-arrow fitted\">&nbsp;&nbsp;RandomizedSearchCV<a class=\"sk-estimator-doc-link fitted\" rel=\"noreferrer\" target=\"_blank\" href=\"https://scikit-learn.org/1.5/modules/generated/sklearn.model_selection.RandomizedSearchCV.html\">?<span>Documentation for RandomizedSearchCV</span></a><span class=\"sk-estimator-doc-link fitted\">i<span>Fitted</span></span></label><div class=\"sk-toggleable__content fitted\"><pre>RandomizedSearchCV(cv=3, estimator=RBFClassifier(), n_iter=20, n_jobs=-1,\n",
              "                   param_distributions={&#x27;batch_size&#x27;: [16, 32, 64],\n",
              "                                        &#x27;epochs&#x27;: [10, 20, 30],\n",
              "                                        &#x27;gamma&#x27;: [0.5, 1.0, 2.0],\n",
              "                                        &#x27;hidden_neurons&#x27;: [50, 100, 150, 200],\n",
              "                                        &#x27;learning_rate&#x27;: [0.0001, 0.001, 0.01]},\n",
              "                   random_state=42, scoring=&#x27;accuracy&#x27;, verbose=2)</pre></div> </div></div><div class=\"sk-parallel\"><div class=\"sk-parallel-item\"><div class=\"sk-item\"><div class=\"sk-label-container\"><div class=\"sk-label fitted sk-toggleable\"><input class=\"sk-toggleable__control sk-hidden--visually\" id=\"sk-estimator-id-8\" type=\"checkbox\" ><label for=\"sk-estimator-id-8\" class=\"sk-toggleable__label fitted sk-toggleable__label-arrow fitted\">best_estimator_: RBFClassifier</label><div class=\"sk-toggleable__content fitted\"><pre>RBFClassifier(epochs=10, gamma=2.0, hidden_neurons=50, learning_rate=0.0001)</pre></div> </div></div><div class=\"sk-serial\"><div class=\"sk-item\"><div class=\"sk-estimator fitted sk-toggleable\"><input class=\"sk-toggleable__control sk-hidden--visually\" id=\"sk-estimator-id-9\" type=\"checkbox\" ><label for=\"sk-estimator-id-9\" class=\"sk-toggleable__label fitted sk-toggleable__label-arrow fitted\">RBFClassifier</label><div class=\"sk-toggleable__content fitted\"><pre>RBFClassifier(epochs=10, gamma=2.0, hidden_neurons=50, learning_rate=0.0001)</pre></div> </div></div></div></div></div></div></div></div></div>"
            ]
          },
          "metadata": {},
          "execution_count": 47
        }
      ]
    },
    {
      "cell_type": "markdown",
      "source": [
        "Yapılan hiperparametre optimizasyonu sonucunda RBF Modeli test doğruluğu %69.2 çıkmıştır\n",
        "\n",
        "En iyi parametreler:\n",
        "\n",
        "```\n",
        "'learning_rate': 0.0001,\n",
        "'hidden_neurons': 50,\n",
        "'gamma': 2.0,\n",
        "'epochs': 10,\n",
        "'batch_size': 32\n",
        "```\n"
      ],
      "metadata": {
        "id": "5VJ-Ft1FQz5H"
      }
    },
    {
      "cell_type": "code",
      "source": [
        "# Sonuçları değerlendirin\n",
        "print(\"En iyi parametreler:\", random_search.best_params_)\n",
        "y_pred = random_search.best_estimator_.predict(X_test_flat)\n",
        "\n",
        "rbf_accuracy = accuracy_score(y_test, y_pred)\n",
        "\n",
        "print(\"Test doğruluğu:\", accuracy_score(y_test, y_pred))"
      ],
      "metadata": {
        "colab": {
          "base_uri": "https://localhost:8080/"
        },
        "id": "WwuM6oA-UYsF",
        "outputId": "e640e0c4-7e67-4f88-e8ef-7826ad1947b5"
      },
      "execution_count": null,
      "outputs": [
        {
          "output_type": "stream",
          "name": "stdout",
          "text": [
            "En iyi parametreler: {'learning_rate': 0.0001, 'hidden_neurons': 50, 'gamma': 2.0, 'epochs': 10, 'batch_size': 32}\n",
            "\u001b[1m167/167\u001b[0m \u001b[32m━━━━━━━━━━━━━━━━━━━━\u001b[0m\u001b[37m\u001b[0m \u001b[1m1s\u001b[0m 6ms/step\n",
            "Test doğruluğu: 0.6929429429429429\n"
          ]
        }
      ]
    },
    {
      "cell_type": "markdown",
      "source": [
        "#### RBF Classification Report"
      ],
      "metadata": {
        "id": "6IPc9AHnRBo3"
      }
    },
    {
      "cell_type": "code",
      "source": [
        "print(\"RBF Classification Report:\")\n",
        "print(classification_report(y_test, y_pred))"
      ],
      "metadata": {
        "colab": {
          "base_uri": "https://localhost:8080/"
        },
        "id": "1UIpDPE7UsgF",
        "outputId": "79f2334e-32c5-471e-9260-f62e0a24d90d"
      },
      "execution_count": null,
      "outputs": [
        {
          "output_type": "stream",
          "name": "stdout",
          "text": [
            "RBF Classification Report:\n",
            "              precision    recall  f1-score   support\n",
            "\n",
            "           0       0.00      0.00      0.00        30\n",
            "           1       0.76      0.85      0.80       300\n",
            "           2       0.59      0.83      0.69       300\n",
            "           3       0.60      0.49      0.54       192\n",
            "           4       0.77      0.67      0.72       264\n",
            "           5       0.40      0.58      0.47       252\n",
            "           6       0.69      0.18      0.29        60\n",
            "           7       0.68      0.52      0.59       192\n",
            "           8       0.42      0.54      0.47       192\n",
            "           9       0.84      0.87      0.86       198\n",
            "          10       0.70      0.98      0.81       270\n",
            "          11       0.48      0.96      0.64       180\n",
            "          12       0.79      0.99      0.88       282\n",
            "          13       0.97      0.95      0.96       288\n",
            "          14       0.99      0.96      0.98       108\n",
            "          15       1.00      0.17      0.29        84\n",
            "          16       1.00      0.52      0.68        60\n",
            "          17       0.96      0.95      0.96       150\n",
            "          18       0.70      0.84      0.76       162\n",
            "          19       0.00      0.00      0.00        30\n",
            "          20       0.00      0.00      0.00        48\n",
            "          21       0.57      0.08      0.15        48\n",
            "          22       1.00      0.39      0.56        54\n",
            "          23       0.80      0.11      0.20        72\n",
            "          24       0.00      0.00      0.00        36\n",
            "          25       0.71      0.89      0.79       204\n",
            "          26       0.66      0.37      0.47        84\n",
            "          27       0.00      0.00      0.00        36\n",
            "          28       0.94      0.47      0.63        72\n",
            "          29       0.00      0.00      0.00        36\n",
            "          30       0.84      0.35      0.49        60\n",
            "          31       0.56      0.74      0.64       108\n",
            "          32       1.00      0.11      0.20        36\n",
            "          33       0.77      0.94      0.85        96\n",
            "          34       1.00      0.05      0.10        60\n",
            "          35       0.89      0.94      0.92       162\n",
            "          36       1.00      0.20      0.34        54\n",
            "          37       1.00      0.13      0.24        30\n",
            "          38       0.65      0.97      0.78       276\n",
            "          39       0.81      0.50      0.62        42\n",
            "          40       1.00      0.17      0.29        48\n",
            "          41       0.88      0.58      0.70        36\n",
            "          42       1.00      0.03      0.05        36\n",
            "\n",
            "    accuracy                           0.69      5328\n",
            "   macro avg       0.68      0.49      0.50      5328\n",
            "weighted avg       0.71      0.69      0.66      5328\n",
            "\n"
          ]
        }
      ]
    },
    {
      "cell_type": "markdown",
      "source": [
        "# Sonuçları Karşılaştırma ve Yorumlama"
      ],
      "metadata": {
        "id": "SOdLB2CUVxqn"
      }
    },
    {
      "cell_type": "code",
      "source": [
        "# Performans Sonuçları Tablosu\n",
        "performance_results = pd.DataFrame({\n",
        "    'Model': ['MLP', 'RBF'],\n",
        "    'Accuracy': [mlp_accuracy, rbf_accuracy],\n",
        "    'Best Params': [search_mlp.best_params_, random_search.best_params_]\n",
        "})\n",
        "\n",
        "print(\"\\nPerformans Sonuçları:\")\n",
        "performance_results\n",
        "\n"
      ],
      "metadata": {
        "id": "Spi_-S-9zkuX",
        "colab": {
          "base_uri": "https://localhost:8080/",
          "height": 217
        },
        "outputId": "19173f5f-4511-4ed4-8d8e-bbad8faa38ca"
      },
      "execution_count": null,
      "outputs": [
        {
          "output_type": "stream",
          "name": "stdout",
          "text": [
            "\n",
            "Performans Sonuçları:\n"
          ]
        },
        {
          "output_type": "execute_result",
          "data": {
            "text/plain": [
              "  Model  Accuracy                                        Best Params\n",
              "0   MLP  0.978041  {'activation': 'tanh', 'alpha': 0.008699404067...\n",
              "1   RBF  0.692943  {'learning_rate': 0.0001, 'hidden_neurons': 50..."
            ],
            "text/html": [
              "\n",
              "  <div id=\"df-09e20721-861f-49ea-a49c-31cf697af200\" class=\"colab-df-container\">\n",
              "    <div>\n",
              "<style scoped>\n",
              "    .dataframe tbody tr th:only-of-type {\n",
              "        vertical-align: middle;\n",
              "    }\n",
              "\n",
              "    .dataframe tbody tr th {\n",
              "        vertical-align: top;\n",
              "    }\n",
              "\n",
              "    .dataframe thead th {\n",
              "        text-align: right;\n",
              "    }\n",
              "</style>\n",
              "<table border=\"1\" class=\"dataframe\">\n",
              "  <thead>\n",
              "    <tr style=\"text-align: right;\">\n",
              "      <th></th>\n",
              "      <th>Model</th>\n",
              "      <th>Accuracy</th>\n",
              "      <th>Best Params</th>\n",
              "    </tr>\n",
              "  </thead>\n",
              "  <tbody>\n",
              "    <tr>\n",
              "      <th>0</th>\n",
              "      <td>MLP</td>\n",
              "      <td>0.978041</td>\n",
              "      <td>{'activation': 'tanh', 'alpha': 0.008699404067...</td>\n",
              "    </tr>\n",
              "    <tr>\n",
              "      <th>1</th>\n",
              "      <td>RBF</td>\n",
              "      <td>0.692943</td>\n",
              "      <td>{'learning_rate': 0.0001, 'hidden_neurons': 50...</td>\n",
              "    </tr>\n",
              "  </tbody>\n",
              "</table>\n",
              "</div>\n",
              "    <div class=\"colab-df-buttons\">\n",
              "\n",
              "  <div class=\"colab-df-container\">\n",
              "    <button class=\"colab-df-convert\" onclick=\"convertToInteractive('df-09e20721-861f-49ea-a49c-31cf697af200')\"\n",
              "            title=\"Convert this dataframe to an interactive table.\"\n",
              "            style=\"display:none;\">\n",
              "\n",
              "  <svg xmlns=\"http://www.w3.org/2000/svg\" height=\"24px\" viewBox=\"0 -960 960 960\">\n",
              "    <path d=\"M120-120v-720h720v720H120Zm60-500h600v-160H180v160Zm220 220h160v-160H400v160Zm0 220h160v-160H400v160ZM180-400h160v-160H180v160Zm440 0h160v-160H620v160ZM180-180h160v-160H180v160Zm440 0h160v-160H620v160Z\"/>\n",
              "  </svg>\n",
              "    </button>\n",
              "\n",
              "  <style>\n",
              "    .colab-df-container {\n",
              "      display:flex;\n",
              "      gap: 12px;\n",
              "    }\n",
              "\n",
              "    .colab-df-convert {\n",
              "      background-color: #E8F0FE;\n",
              "      border: none;\n",
              "      border-radius: 50%;\n",
              "      cursor: pointer;\n",
              "      display: none;\n",
              "      fill: #1967D2;\n",
              "      height: 32px;\n",
              "      padding: 0 0 0 0;\n",
              "      width: 32px;\n",
              "    }\n",
              "\n",
              "    .colab-df-convert:hover {\n",
              "      background-color: #E2EBFA;\n",
              "      box-shadow: 0px 1px 2px rgba(60, 64, 67, 0.3), 0px 1px 3px 1px rgba(60, 64, 67, 0.15);\n",
              "      fill: #174EA6;\n",
              "    }\n",
              "\n",
              "    .colab-df-buttons div {\n",
              "      margin-bottom: 4px;\n",
              "    }\n",
              "\n",
              "    [theme=dark] .colab-df-convert {\n",
              "      background-color: #3B4455;\n",
              "      fill: #D2E3FC;\n",
              "    }\n",
              "\n",
              "    [theme=dark] .colab-df-convert:hover {\n",
              "      background-color: #434B5C;\n",
              "      box-shadow: 0px 1px 3px 1px rgba(0, 0, 0, 0.15);\n",
              "      filter: drop-shadow(0px 1px 2px rgba(0, 0, 0, 0.3));\n",
              "      fill: #FFFFFF;\n",
              "    }\n",
              "  </style>\n",
              "\n",
              "    <script>\n",
              "      const buttonEl =\n",
              "        document.querySelector('#df-09e20721-861f-49ea-a49c-31cf697af200 button.colab-df-convert');\n",
              "      buttonEl.style.display =\n",
              "        google.colab.kernel.accessAllowed ? 'block' : 'none';\n",
              "\n",
              "      async function convertToInteractive(key) {\n",
              "        const element = document.querySelector('#df-09e20721-861f-49ea-a49c-31cf697af200');\n",
              "        const dataTable =\n",
              "          await google.colab.kernel.invokeFunction('convertToInteractive',\n",
              "                                                    [key], {});\n",
              "        if (!dataTable) return;\n",
              "\n",
              "        const docLinkHtml = 'Like what you see? Visit the ' +\n",
              "          '<a target=\"_blank\" href=https://colab.research.google.com/notebooks/data_table.ipynb>data table notebook</a>'\n",
              "          + ' to learn more about interactive tables.';\n",
              "        element.innerHTML = '';\n",
              "        dataTable['output_type'] = 'display_data';\n",
              "        await google.colab.output.renderOutput(dataTable, element);\n",
              "        const docLink = document.createElement('div');\n",
              "        docLink.innerHTML = docLinkHtml;\n",
              "        element.appendChild(docLink);\n",
              "      }\n",
              "    </script>\n",
              "  </div>\n",
              "\n",
              "\n",
              "<div id=\"df-16372600-586d-48da-a1ba-2a5d194d90d7\">\n",
              "  <button class=\"colab-df-quickchart\" onclick=\"quickchart('df-16372600-586d-48da-a1ba-2a5d194d90d7')\"\n",
              "            title=\"Suggest charts\"\n",
              "            style=\"display:none;\">\n",
              "\n",
              "<svg xmlns=\"http://www.w3.org/2000/svg\" height=\"24px\"viewBox=\"0 0 24 24\"\n",
              "     width=\"24px\">\n",
              "    <g>\n",
              "        <path d=\"M19 3H5c-1.1 0-2 .9-2 2v14c0 1.1.9 2 2 2h14c1.1 0 2-.9 2-2V5c0-1.1-.9-2-2-2zM9 17H7v-7h2v7zm4 0h-2V7h2v10zm4 0h-2v-4h2v4z\"/>\n",
              "    </g>\n",
              "</svg>\n",
              "  </button>\n",
              "\n",
              "<style>\n",
              "  .colab-df-quickchart {\n",
              "      --bg-color: #E8F0FE;\n",
              "      --fill-color: #1967D2;\n",
              "      --hover-bg-color: #E2EBFA;\n",
              "      --hover-fill-color: #174EA6;\n",
              "      --disabled-fill-color: #AAA;\n",
              "      --disabled-bg-color: #DDD;\n",
              "  }\n",
              "\n",
              "  [theme=dark] .colab-df-quickchart {\n",
              "      --bg-color: #3B4455;\n",
              "      --fill-color: #D2E3FC;\n",
              "      --hover-bg-color: #434B5C;\n",
              "      --hover-fill-color: #FFFFFF;\n",
              "      --disabled-bg-color: #3B4455;\n",
              "      --disabled-fill-color: #666;\n",
              "  }\n",
              "\n",
              "  .colab-df-quickchart {\n",
              "    background-color: var(--bg-color);\n",
              "    border: none;\n",
              "    border-radius: 50%;\n",
              "    cursor: pointer;\n",
              "    display: none;\n",
              "    fill: var(--fill-color);\n",
              "    height: 32px;\n",
              "    padding: 0;\n",
              "    width: 32px;\n",
              "  }\n",
              "\n",
              "  .colab-df-quickchart:hover {\n",
              "    background-color: var(--hover-bg-color);\n",
              "    box-shadow: 0 1px 2px rgba(60, 64, 67, 0.3), 0 1px 3px 1px rgba(60, 64, 67, 0.15);\n",
              "    fill: var(--button-hover-fill-color);\n",
              "  }\n",
              "\n",
              "  .colab-df-quickchart-complete:disabled,\n",
              "  .colab-df-quickchart-complete:disabled:hover {\n",
              "    background-color: var(--disabled-bg-color);\n",
              "    fill: var(--disabled-fill-color);\n",
              "    box-shadow: none;\n",
              "  }\n",
              "\n",
              "  .colab-df-spinner {\n",
              "    border: 2px solid var(--fill-color);\n",
              "    border-color: transparent;\n",
              "    border-bottom-color: var(--fill-color);\n",
              "    animation:\n",
              "      spin 1s steps(1) infinite;\n",
              "  }\n",
              "\n",
              "  @keyframes spin {\n",
              "    0% {\n",
              "      border-color: transparent;\n",
              "      border-bottom-color: var(--fill-color);\n",
              "      border-left-color: var(--fill-color);\n",
              "    }\n",
              "    20% {\n",
              "      border-color: transparent;\n",
              "      border-left-color: var(--fill-color);\n",
              "      border-top-color: var(--fill-color);\n",
              "    }\n",
              "    30% {\n",
              "      border-color: transparent;\n",
              "      border-left-color: var(--fill-color);\n",
              "      border-top-color: var(--fill-color);\n",
              "      border-right-color: var(--fill-color);\n",
              "    }\n",
              "    40% {\n",
              "      border-color: transparent;\n",
              "      border-right-color: var(--fill-color);\n",
              "      border-top-color: var(--fill-color);\n",
              "    }\n",
              "    60% {\n",
              "      border-color: transparent;\n",
              "      border-right-color: var(--fill-color);\n",
              "    }\n",
              "    80% {\n",
              "      border-color: transparent;\n",
              "      border-right-color: var(--fill-color);\n",
              "      border-bottom-color: var(--fill-color);\n",
              "    }\n",
              "    90% {\n",
              "      border-color: transparent;\n",
              "      border-bottom-color: var(--fill-color);\n",
              "    }\n",
              "  }\n",
              "</style>\n",
              "\n",
              "  <script>\n",
              "    async function quickchart(key) {\n",
              "      const quickchartButtonEl =\n",
              "        document.querySelector('#' + key + ' button');\n",
              "      quickchartButtonEl.disabled = true;  // To prevent multiple clicks.\n",
              "      quickchartButtonEl.classList.add('colab-df-spinner');\n",
              "      try {\n",
              "        const charts = await google.colab.kernel.invokeFunction(\n",
              "            'suggestCharts', [key], {});\n",
              "      } catch (error) {\n",
              "        console.error('Error during call to suggestCharts:', error);\n",
              "      }\n",
              "      quickchartButtonEl.classList.remove('colab-df-spinner');\n",
              "      quickchartButtonEl.classList.add('colab-df-quickchart-complete');\n",
              "    }\n",
              "    (() => {\n",
              "      let quickchartButtonEl =\n",
              "        document.querySelector('#df-16372600-586d-48da-a1ba-2a5d194d90d7 button');\n",
              "      quickchartButtonEl.style.display =\n",
              "        google.colab.kernel.accessAllowed ? 'block' : 'none';\n",
              "    })();\n",
              "  </script>\n",
              "</div>\n",
              "\n",
              "  <div id=\"id_6026d2d8-71c3-4687-8418-8bdb0a5a406d\">\n",
              "    <style>\n",
              "      .colab-df-generate {\n",
              "        background-color: #E8F0FE;\n",
              "        border: none;\n",
              "        border-radius: 50%;\n",
              "        cursor: pointer;\n",
              "        display: none;\n",
              "        fill: #1967D2;\n",
              "        height: 32px;\n",
              "        padding: 0 0 0 0;\n",
              "        width: 32px;\n",
              "      }\n",
              "\n",
              "      .colab-df-generate:hover {\n",
              "        background-color: #E2EBFA;\n",
              "        box-shadow: 0px 1px 2px rgba(60, 64, 67, 0.3), 0px 1px 3px 1px rgba(60, 64, 67, 0.15);\n",
              "        fill: #174EA6;\n",
              "      }\n",
              "\n",
              "      [theme=dark] .colab-df-generate {\n",
              "        background-color: #3B4455;\n",
              "        fill: #D2E3FC;\n",
              "      }\n",
              "\n",
              "      [theme=dark] .colab-df-generate:hover {\n",
              "        background-color: #434B5C;\n",
              "        box-shadow: 0px 1px 3px 1px rgba(0, 0, 0, 0.15);\n",
              "        filter: drop-shadow(0px 1px 2px rgba(0, 0, 0, 0.3));\n",
              "        fill: #FFFFFF;\n",
              "      }\n",
              "    </style>\n",
              "    <button class=\"colab-df-generate\" onclick=\"generateWithVariable('performance_results')\"\n",
              "            title=\"Generate code using this dataframe.\"\n",
              "            style=\"display:none;\">\n",
              "\n",
              "  <svg xmlns=\"http://www.w3.org/2000/svg\" height=\"24px\"viewBox=\"0 0 24 24\"\n",
              "       width=\"24px\">\n",
              "    <path d=\"M7,19H8.4L18.45,9,17,7.55,7,17.6ZM5,21V16.75L18.45,3.32a2,2,0,0,1,2.83,0l1.4,1.43a1.91,1.91,0,0,1,.58,1.4,1.91,1.91,0,0,1-.58,1.4L9.25,21ZM18.45,9,17,7.55Zm-12,3A5.31,5.31,0,0,0,4.9,8.1,5.31,5.31,0,0,0,1,6.5,5.31,5.31,0,0,0,4.9,4.9,5.31,5.31,0,0,0,6.5,1,5.31,5.31,0,0,0,8.1,4.9,5.31,5.31,0,0,0,12,6.5,5.46,5.46,0,0,0,6.5,12Z\"/>\n",
              "  </svg>\n",
              "    </button>\n",
              "    <script>\n",
              "      (() => {\n",
              "      const buttonEl =\n",
              "        document.querySelector('#id_6026d2d8-71c3-4687-8418-8bdb0a5a406d button.colab-df-generate');\n",
              "      buttonEl.style.display =\n",
              "        google.colab.kernel.accessAllowed ? 'block' : 'none';\n",
              "\n",
              "      buttonEl.onclick = () => {\n",
              "        google.colab.notebook.generateWithVariable('performance_results');\n",
              "      }\n",
              "      })();\n",
              "    </script>\n",
              "  </div>\n",
              "\n",
              "    </div>\n",
              "  </div>\n"
            ],
            "application/vnd.google.colaboratory.intrinsic+json": {
              "type": "dataframe",
              "variable_name": "performance_results",
              "summary": "{\n  \"name\": \"performance_results\",\n  \"rows\": 2,\n  \"fields\": [\n    {\n      \"column\": \"Model\",\n      \"properties\": {\n        \"dtype\": \"string\",\n        \"num_unique_values\": 2,\n        \"samples\": [\n          \"RBF\",\n          \"MLP\"\n        ],\n        \"semantic_type\": \"\",\n        \"description\": \"\"\n      }\n    },\n    {\n      \"column\": \"Accuracy\",\n      \"properties\": {\n        \"dtype\": \"number\",\n        \"std\": 0.2015944445612549,\n        \"min\": 0.6929429429429429,\n        \"max\": 0.9780405405405406,\n        \"num_unique_values\": 2,\n        \"samples\": [\n          0.6929429429429429,\n          0.9780405405405406\n        ],\n        \"semantic_type\": \"\",\n        \"description\": \"\"\n      }\n    },\n    {\n      \"column\": \"Best Params\",\n      \"properties\": {\n        \"dtype\": \"object\",\n        \"semantic_type\": \"\",\n        \"description\": \"\"\n      }\n    }\n  ]\n}"
            }
          },
          "metadata": {},
          "execution_count": 57
        }
      ]
    },
    {
      "cell_type": "markdown",
      "source": [
        "MLP Modeli RBF modeline kıyasla daha başarılı sonuçlar üretmiş ve test veri setinin tahminlenmesinde %97.8 başarı göstermiştir. MLP ile en iyi sonuç bu veriseti için activation parametresi 'tanh' ve alpha değeri '0.00869' seçildiğinde alınmıştır. Diğer hiperparametreler için seçim yapılmamış default seçenekler kullanılmıştır.\n",
        "\n"
      ],
      "metadata": {
        "id": "yZIJB9huREox"
      }
    }
  ]
}